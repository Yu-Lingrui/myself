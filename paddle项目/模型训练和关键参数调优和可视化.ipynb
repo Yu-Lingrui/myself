{
 "cells": [
  {
   "cell_type": "markdown",
   "metadata": {
    "collapsed": false
   },
   "source": [
    "# 深度学习模型训练和关键参数调优详解\n",
    "\n",
    "针对特定场景任务从**模型选择、模型训练、超参优化、效果展示**这四个方面进行模型开发。\n",
    "\n",
    "参考资料：\n",
    "- [最实用的项目开发全流程!从自建数据集到模型部署,其实没有这么难!](https://aistudio.baidu.com/aistudio/projectdetail/671871)\n",
    "- [神经网络前向传播原理详解](https://aistudio.baidu.com/aistudio/projectdetail/742777)\n",
    "- [写给小白的入门笔记，神经网络梯度下降原理详解](https://aistudio.baidu.com/aistudio/projectdetail/757995)\n",
    "- [使用飞桨可解释性算法库InterpretDL解析人脸识别模型](https://aistudio.baidu.com/aistudio/projectdetail/1658188)"
   ]
  },
  {
   "cell_type": "markdown",
   "metadata": {
    "collapsed": false
   },
   "source": [
    "# 一、模型选择\n",
    "\n",
    "从任务类型出发，选择最合适的模型。"
   ]
  },
  {
   "cell_type": "markdown",
   "metadata": {
    "collapsed": false
   },
   "source": [
    "## 1.回归任务\n",
    "\n",
    "从使用Numpy推导，到使用深度学习框架，一步步走进最简单的回归任务：[当人工智能邂逅蓝桥杯算法题，会擦出怎样的火花？](https://aistudio.baidu.com/aistudio/projectdetail/1693536)"
   ]
  },
  {
   "cell_type": "markdown",
   "metadata": {
    "collapsed": false
   },
   "source": [
    "### 人脸关键点检测\n",
    "\n",
    "完整代码详见[基于空间注意力SAM的GoogLeNet实现人脸关键点检测并自动添加表情贴纸](https://aistudio.baidu.com/aistudio/projectdetail/1533049)\n",
    "\n",
    "![](https://ai-studio-static-online.cdn.bcebos.com/0ccfc3abc6574d18aba1649687a464730f426b839b9c4a409eb2f75629fce9dc)\n",
    "\n",
    "\n",
    "68点的人脸关键点检测：\n",
    "\n",
    "<img style=\"display: block; margin: 0 auto;zoom:30%;\" src=\"https://ai-studio-static-online.cdn.bcebos.com/a9161a11b91b468497e9fbbf565a0a638ace47b2a6c54748a7bd2e497ea0727f\" alt=\"\"/>\n",
    "\n",
    "- 1-17：人脸的下轮廓\n",
    "- 18-27：眉毛\n",
    "- 28-36： 鼻子\n",
    "- 37-48：眼睛\n",
    "- 49-68：嘴巴"
   ]
  },
  {
   "cell_type": "markdown",
   "metadata": {
    "collapsed": false
   },
   "source": [
    "人脸关键点检测任务中，输出为 **人脸关键点的数量x2**，即每个人脸关键点的横坐标与纵坐标。在模型组网时，主要使用2个模块，分别是Inception模块和空间注意力模块。增加空间注意力模块是为了提高模型效果。"
   ]
  },
  {
   "cell_type": "markdown",
   "metadata": {
    "collapsed": false
   },
   "source": [
    "- **Inception模块**\n",
    "\n",
    "GoogLeNet是由Inception模块进行组成的，GoogLeNet采用了模块化的结构，因此修改网络结构时非常简单方便。\n",
    "\n",
    "![](https://ai-studio-static-online.cdn.bcebos.com/ab2001ee42114943af663e5313e18751d43f1262e8b14ae68118a1d54e0ee66a)\n"
   ]
  },
  {
   "cell_type": "code",
   "execution_count": null,
   "metadata": {
    "collapsed": false
   },
   "outputs": [],
   "source": [
    "import paddle\r\n",
    "import paddle.nn as nn\r\n",
    "\r\n",
    "# GoogLeNet加BN层加速模型收敛\r\n",
    "class Inception(nn.Layer): # 定义Inception块（Inception v1）\r\n",
    "    def __init__(self,c1, c2, c3, c4):\r\n",
    "        super(Inception, self).__init__()\r\n",
    "\r\n",
    "        self.relu = nn.ReLU()\r\n",
    "        self.p1_1 = nn.Conv2D(c1[0], c1[1], 1)\r\n",
    "        self.p2_1 = nn.Conv2D(c1[0], c2[0], 1)\r\n",
    "        self.p2_2 = nn.Conv2D(c2[0], c2[1], 3, padding=1)\r\n",
    "        self.p3_1 = nn.Conv2D(c1[0], c3[0], 1)\r\n",
    "        self.p3_2 = nn.Conv2D(c3[0], c3[1], 5, padding=2)\r\n",
    "        self.p4_1 = nn.MaxPool2D(kernel_size=3, stride=1, padding=1)\r\n",
    "        self.p4_2 = nn.Conv2D(c1[0], c4, 1)\r\n",
    "\r\n",
    "    def forward(self, x):\r\n",
    "        p1 = self.relu(self.p1_1(x))\r\n",
    "        p2 = self.relu(self.p2_2(self.p2_1(x)))\r\n",
    "        p3 = self.relu(self.p3_2(self.p3_1(x)))\r\n",
    "        p4 = self.relu(self.p4_2(self.p4_1(x)))\r\n",
    "\r\n",
    "        return paddle.concat([p1, p2, p3, p4], axis=1)"
   ]
  },
  {
   "cell_type": "markdown",
   "metadata": {
    "collapsed": false
   },
   "source": [
    "- **空间注意力模块**\n",
    "\n",
    "空间注意力聚焦在“哪里”是最具信息量的部分。计算空间注意力的方法是沿着通道轴应用平均池化和最大池操作，然后将它们连接起来生成一个有效的特征描述符。\n",
    "\n",
    "![](https://ai-studio-static-online.cdn.bcebos.com/056c7bd40bc240478419aa3926b2652145f3a30d6d7d43c7ac356d6949b680f3)"
   ]
  },
  {
   "cell_type": "code",
   "execution_count": null,
   "metadata": {
    "collapsed": false
   },
   "outputs": [],
   "source": [
    "import paddle\r\n",
    "import paddle.nn as nn\r\n",
    "\r\n",
    "# 空间注意力机制\r\n",
    "class SAM_Module(nn.Layer):  \r\n",
    "    def __init__(self):  \r\n",
    "        super(SAM_Module, self).__init__()  \r\n",
    "        self.conv_after_concat = nn.Conv2D(in_channels=2, out_channels=1, kernel_size=7, stride=1, padding=3)  \r\n",
    "        self.sigmoid_spatial = nn.Sigmoid()  \r\n",
    "\r\n",
    "    def forward(self, x):  \r\n",
    "        # Spatial Attention Module  \r\n",
    "        module_input = x  \r\n",
    "        avg = paddle.mean(x, axis=1, keepdim=True)  \r\n",
    "        mx = paddle.argmax(x, axis=1, keepdim=True)\r\n",
    "        mx = paddle.cast(mx, 'float32')\r\n",
    "        x = paddle.concat([avg, mx], axis=1)\r\n",
    "        x = self.conv_after_concat(x)  \r\n",
    "        x = self.sigmoid_spatial(x)  \r\n",
    "        x = module_input * x  \r\n",
    "\r\n",
    "        return x  "
   ]
  },
  {
   "cell_type": "markdown",
   "metadata": {
    "collapsed": false
   },
   "source": [
    "## 2.分类任务\n",
    "\n",
    "CIFAR-10数据集也是分类任务中一个非常经典的数据集，在科研中，常常使用CIFAR数据集评估算法的性能。"
   ]
  },
  {
   "cell_type": "markdown",
   "metadata": {
    "collapsed": false
   },
   "source": [
    "### 图像分类\n",
    "\n",
    "基于CIFAR-10数据集实现图像10分类。项目完整代码详见：[从论文到代码深入解析带有门控单元的gMLP算法](https://aistudio.baidu.com/aistudio/projectdetail/2134364)\n",
    "\n",
    "gMLP中，最核心的部分就是**空间选通单元(Spatial Gating Unit,SGU)**，它的结构如下图所示：\n",
    "\n",
    "<img style=\"display: block; margin: 0 auto;\" src=\"https://ai-studio-static-online.cdn.bcebos.com/1cf002e743094b2aab6a4f116d25592f380f0391e1214441bdb6228bcf7e95b1\" width = \"80%\" height = \"80%\" />\n"
   ]
  },
  {
   "cell_type": "code",
   "execution_count": null,
   "metadata": {
    "collapsed": false
   },
   "outputs": [
    {
     "name": "stderr",
     "output_type": "stream",
     "text": [
      "/opt/conda/envs/python35-paddle120-env/lib/python3.7/site-packages/paddle/fluid/layers/utils.py:26: DeprecationWarning: `np.int` is a deprecated alias for the builtin `int`. To silence this warning, use `int` by itself. Doing this will not modify any behavior and is safe. When replacing `np.int`, you may wish to use e.g. `np.int64` or `np.int32` to specify the precision. If you wish to review your current use, check the release note link for additional information.\n",
      "Deprecated in NumPy 1.20; for more details and guidance: https://numpy.org/devdocs/release/1.20.0-notes.html#deprecations\n",
      "  def convert_to_list(value, n, name, dtype=np.int):\n"
     ]
    }
   ],
   "source": [
    "import paddle\r\n",
    "import paddle.nn as nn\r\n",
    "\r\n",
    "class SpatialGatingUnit(nn.Layer):\r\n",
    "    def __init__(self, dim, dim_seq, act = None):\r\n",
    "        super(SpatialGatingUnit, self).__init__()\r\n",
    "        dim_out = dim // 2\r\n",
    "\r\n",
    "        self.norm = nn.LayerNorm(normalized_shape = dim_out)\r\n",
    "        self.proj = nn.Conv1D(in_channels = dim_seq, out_channels = dim_seq, kernel_size = 1)\r\n",
    "        self.act = act\r\n",
    "\r\n",
    "\r\n",
    "    def forward(self, x):\r\n",
    "        res, gate = paddle.chunk(x, 2, axis=-1)\r\n",
    "        gate = self.norm(gate)\r\n",
    "        gate = self.proj(gate.transpose((0, 2, 1)))\r\n",
    "        if self.act:\r\n",
    "            gate = self.act(gate)\r\n",
    "        y = gate * res.transpose((0, 2, 1))\r\n",
    "        y = y.transpose((0, 2, 1))\r\n",
    "\r\n",
    "        return y"
   ]
  },
  {
   "cell_type": "markdown",
   "metadata": {
    "collapsed": false
   },
   "source": [
    "查看网络结构："
   ]
  },
  {
   "cell_type": "code",
   "execution_count": null,
   "metadata": {
    "collapsed": false
   },
   "outputs": [
    {
     "name": "stdout",
     "output_type": "stream",
     "text": [
      "---------------------------------------------------------------------------\n",
      " Layer (type)       Input Shape          Output Shape         Param #    \n",
      "===========================================================================\n",
      "  LayerNorm-1      [[3, 32, 16]]         [3, 32, 16]            32       \n",
      "   Conv1D-1        [[3, 16, 32]]         [3, 16, 32]            272      \n",
      "===========================================================================\n",
      "Total params: 304\n",
      "Trainable params: 304\n",
      "Non-trainable params: 0\n",
      "---------------------------------------------------------------------------\n",
      "Input size (MB): 0.01\n",
      "Forward/backward pass size (MB): 0.02\n",
      "Params size (MB): 0.00\n",
      "Estimated Total Size (MB): 0.04\n",
      "---------------------------------------------------------------------------\n",
      "\n"
     ]
    },
    {
     "data": {
      "text/plain": [
       "{'total_params': 304, 'trainable_params': 304}"
      ]
     },
     "execution_count": null,
     "metadata": {},
     "output_type": "execute_result"
    }
   ],
   "source": [
    "sgu = SpatialGatingUnit(32, 16)\r\n",
    "paddle.summary(sgu, (3, 32, 32))"
   ]
  },
  {
   "cell_type": "markdown",
   "metadata": {
    "collapsed": false
   },
   "source": [
    "gMLP是由一个个gMLP block构成的，上面我们已经把gMLP block中最重要的空间选通单元(Spatial Gating Unit,SGU)实现了，接下来我们只需要拿来用即可，代码如下："
   ]
  },
  {
   "cell_type": "code",
   "execution_count": null,
   "metadata": {
    "collapsed": false
   },
   "outputs": [],
   "source": [
    "import paddle\r\n",
    "import paddle.nn as nn\r\n",
    "\r\n",
    "class gMLPBlock(nn.Layer):\r\n",
    "    def __init__(self, dim, dim_ff, seq_len, act = None):\r\n",
    "        super(gMLPBlock, self).__init__()\r\n",
    "        self.proj_in = nn.Sequential(\r\n",
    "            nn.Linear(dim, dim_ff),\r\n",
    "            nn.GELU()\r\n",
    "        )\r\n",
    "\r\n",
    "        self.sgu = SpatialGatingUnit(dim_ff, seq_len, act)\r\n",
    "        self.proj_out = nn.Linear(dim_ff // 2, dim)\r\n",
    "\r\n",
    "    def forward(self, x):\r\n",
    "        x = self.proj_in(x)\r\n",
    "        x = self.sgu(x)\r\n",
    "        x = self.proj_out(x)\r\n",
    "        return x"
   ]
  },
  {
   "cell_type": "markdown",
   "metadata": {
    "collapsed": false
   },
   "source": [
    "查看网络结构："
   ]
  },
  {
   "cell_type": "code",
   "execution_count": null,
   "metadata": {
    "collapsed": false
   },
   "outputs": [
    {
     "name": "stdout",
     "output_type": "stream",
     "text": [
      "-------------------------------------------------------------------------------\n",
      "   Layer (type)         Input Shape          Output Shape         Param #    \n",
      "===============================================================================\n",
      "     Linear-4          [[3, 32, 32]]         [3, 32, 32]           1,056     \n",
      "      GELU-1           [[3, 32, 32]]         [3, 32, 32]             0       \n",
      "    LayerNorm-2        [[3, 32, 16]]         [3, 32, 16]            32       \n",
      "     Conv1D-2          [[3, 16, 32]]         [3, 16, 32]            272      \n",
      "SpatialGatingUnit-2    [[3, 32, 32]]         [3, 32, 16]             0       \n",
      "     Linear-5          [[3, 32, 16]]         [3, 32, 32]            544      \n",
      "===============================================================================\n",
      "Total params: 1,904\n",
      "Trainable params: 1,904\n",
      "Non-trainable params: 0\n",
      "-------------------------------------------------------------------------------\n",
      "Input size (MB): 0.01\n",
      "Forward/backward pass size (MB): 0.11\n",
      "Params size (MB): 0.01\n",
      "Estimated Total Size (MB): 0.12\n",
      "-------------------------------------------------------------------------------\n",
      "\n"
     ]
    },
    {
     "data": {
      "text/plain": [
       "{'total_params': 1904, 'trainable_params': 1904}"
      ]
     },
     "execution_count": null,
     "metadata": {},
     "output_type": "execute_result"
    }
   ],
   "source": [
    "gMLP_block = gMLPBlock(32, 32, 16)\r\n",
    "paddle.summary(gMLP_block, (3, 32, 32))"
   ]
  },
  {
   "cell_type": "markdown",
   "metadata": {
    "collapsed": false
   },
   "source": [
    "将上面的gMLP block堆叠起来，就构成了gMLPs，代码如下："
   ]
  },
  {
   "cell_type": "code",
   "execution_count": null,
   "metadata": {
    "collapsed": false
   },
   "outputs": [],
   "source": [
    "import paddle\r\n",
    "import paddle.nn as nn\r\n",
    "\r\n",
    "def pair(val):\r\n",
    "    return (val, val) if not isinstance(val, tuple) else val\r\n",
    "\r\n",
    "class PatchEmbed(nn.Layer):\r\n",
    "    \"\"\" Image to Patch Embedding\r\n",
    "    \"\"\"\r\n",
    "    def __init__(self, img_size=32, patch_size=16, in_chans=3, embed_dim=768):\r\n",
    "        super(PatchEmbed, self).__init__()\r\n",
    "        img_size = (img_size, img_size)\r\n",
    "        patch_size = (patch_size, patch_size)\r\n",
    "        num_patches = (img_size[1] // patch_size[1]) * (img_size[0] // patch_size[0])\r\n",
    "        self.img_size = img_size\r\n",
    "        self.patch_size = patch_size\r\n",
    "        self.num_patches = num_patches\r\n",
    "\r\n",
    "        self.project = nn.Conv2D(in_chans, embed_dim, kernel_size=self.patch_size, stride=self.patch_size)\r\n",
    "\r\n",
    "    def forward(self, x):\r\n",
    "        x = self.project(x)\r\n",
    "        x = x.flatten(2)\r\n",
    "        x = paddle.transpose(x, perm=[0, 2, 1])\r\n",
    "        return x\r\n",
    "\r\n",
    "class Residual(nn.Layer):\r\n",
    "    def __init__(self, fn):\r\n",
    "        super(Residual, self).__init__()\r\n",
    "        self.fn = fn\r\n",
    "\r\n",
    "    def forward(self, x):\r\n",
    "        return self.fn(x) + x\r\n",
    "\r\n",
    "class PreNorm(nn.Layer):\r\n",
    "    def __init__(self, dim, fn):\r\n",
    "        super(PreNorm, self).__init__()\r\n",
    "        self.fn = fn\r\n",
    "        self.norm = nn.LayerNorm(dim)\r\n",
    "\r\n",
    "    def forward(self, x, **kwargs):\r\n",
    "        x = self.norm(x)\r\n",
    "        return self.fn(x, **kwargs)\r\n",
    "\r\n",
    "class gMLPVision(nn.Layer):\r\n",
    "    def __init__(\r\n",
    "        self,\r\n",
    "        image_size,\r\n",
    "        patch_size,\r\n",
    "        num_classes,\r\n",
    "        dim,\r\n",
    "        depth,\r\n",
    "        ff_mult = 4,\r\n",
    "        channels = 3,\r\n",
    "    ):\r\n",
    "        super(gMLPVision, self).__init__()\r\n",
    "        self.image_height, self.image_width = pair(image_size)\r\n",
    "        self.patch_height, self.patch_width = pair(patch_size)\r\n",
    "        assert (self.image_height % self.patch_height) == 0 and (self.image_width % self.patch_width) == 0, 'image height and width must be divisible by patch size'\r\n",
    "        num_patches = (self.image_height // self.patch_height) * (self.image_width // self.patch_width)\r\n",
    "\r\n",
    "        dim_ff = dim * ff_mult\r\n",
    "\r\n",
    "        self.to_patch_embed = nn.Sequential(\r\n",
    "            # 'b c (h p1) (w p2) -> b (h w) (c p1 p2)', p1 = patch_height, p2 = patch_width\r\n",
    "            PatchEmbed(img_size=image_size, patch_size=patch_size, in_chans=3, embed_dim=channels * self.patch_height * self.patch_width),\r\n",
    "            nn.Linear(channels * self.patch_height * self.patch_width, dim)\r\n",
    "        )\r\n",
    "\r\n",
    "        self.layers = nn.LayerList([Residual(PreNorm(dim, gMLPBlock(dim = dim, dim_ff = dim_ff, seq_len = num_patches))) for i in range(depth)])\r\n",
    "\r\n",
    "        self.norn = nn.LayerNorm(dim)\r\n",
    "    \r\n",
    "        self.to_logits = nn.Sequential(\r\n",
    "            nn.Linear(dim, num_classes)\r\n",
    "        )\r\n",
    "\r\n",
    "    def forward(self, x):\r\n",
    "        x = self.to_patch_embed(x)\r\n",
    "        layers = self.layers\r\n",
    "        x = nn.Sequential(*layers)(x)\r\n",
    "        x = self.norn(x)\r\n",
    "        x = x.mean(axis=1)\r\n",
    "        return self.to_logits(x)"
   ]
  },
  {
   "cell_type": "markdown",
   "metadata": {
    "collapsed": false
   },
   "source": [
    "查看gMLPs模型（共30层，维度为128）结构："
   ]
  },
  {
   "cell_type": "code",
   "execution_count": null,
   "metadata": {
    "collapsed": false
   },
   "outputs": [],
   "source": [
    "gmlp_vision = gMLPVision(\r\n",
    "    image_size = 32,\r\n",
    "    patch_size = 2,\r\n",
    "    num_classes = 10,\r\n",
    "    dim = 128,\r\n",
    "    depth = 30\r\n",
    ")\r\n",
    "paddle.summary(gmlp_vision, (32, 3, 32, 32))"
   ]
  },
  {
   "cell_type": "markdown",
   "metadata": {
    "collapsed": false
   },
   "source": [
    "```\n",
    "===================================================================\n",
    "Total params: 4,968,486\n",
    "Trainable params: 4,968,486\n",
    "Non-trainable params: 0\n",
    "-------------------------------------------------------------------\n",
    "Input size (MB): 0.38\n",
    "Forward/backward pass size (MB): 4577.50\n",
    "Params size (MB): 18.95\n",
    "Estimated Total Size (MB): 4596.83\n",
    "-------------------------------------------------------------------\n",
    "\n",
    "{'total_params': 4968486, 'trainable_params': 4968486}\n",
    "```"
   ]
  },
  {
   "cell_type": "markdown",
   "metadata": {
    "collapsed": false
   },
   "source": [
    "## 3.场景任务\n",
    "\n",
    "这里说的场景任务是针对某一个特定的场景开发的深度学习任务，相比于回归和分类任务来说，场景任务的难度更高。这里说的场景任务包括但不限于目标检测、图像分割、文本生成、语音合成、强化学习等。\n",
    "\n",
    "- [PaddleX模型库](https://paddlex.readthedocs.io/zh_CN/develop/appendix/model_zoo.html)\n",
    "- [PaddleGAN模型库](https://gitee.com/paddlepaddle/PaddleGAN/blob/master/docs/zh_CN/apis/apps.md)\n",
    "- [PaddleOCR模型库](https://github.com/PaddlePaddle/PaddleOCR/blob/release/2.1/doc/doc_ch/models_list.md)\n",
    "- [PaddleHub模型库](https://www.paddlepaddle.org.cn/hublist)"
   ]
  },
  {
   "cell_type": "markdown",
   "metadata": {
    "collapsed": false
   },
   "source": [
    "### 目标检测\n",
    "\n",
    "基于PaddleX的YOLOv3模型快速实现[昆虫检测](https://aistudio.baidu.com/aistudio/projectdetail/442375)。"
   ]
  },
  {
   "cell_type": "markdown",
   "metadata": {
    "collapsed": false
   },
   "source": [
    "安装PaddleX："
   ]
  },
  {
   "cell_type": "code",
   "execution_count": 14,
   "metadata": {
    "collapsed": false
   },
   "outputs": [],
   "source": [
    "!pip install paddlex -i https://mirror.baidu.com/pypi/simple"
   ]
  },
  {
   "cell_type": "markdown",
   "metadata": {
    "collapsed": false
   },
   "source": [
    "PaddleX里的目标检测模型，这里选择骨干网络为DarkNet53的YOLO-V3模型："
   ]
  },
  {
   "cell_type": "code",
   "execution_count": null,
   "metadata": {
    "collapsed": false
   },
   "outputs": [
    {
     "data": {
      "text/plain": [
       "{'version': '1.3.11',\n",
       " 'Model': 'YOLOv3',\n",
       " '_Attributes': {'model_type': 'detector',\n",
       "  'num_classes': 2,\n",
       "  'labels': None,\n",
       "  'fixed_input_shape': None},\n",
       " '_init_params': {'num_classes': 2,\n",
       "  'backbone': 'DarkNet53',\n",
       "  'anchors': None,\n",
       "  'anchor_masks': None,\n",
       "  'ignore_threshold': 0.7,\n",
       "  'nms_score_threshold': 0.01,\n",
       "  'nms_topk': 1000,\n",
       "  'nms_keep_topk': 100,\n",
       "  'nms_iou_threshold': 0.45,\n",
       "  'label_smooth': False,\n",
       "  'train_random_shapes': [320, 352, 384, 416, 448, 480, 512, 544, 576, 608],\n",
       "  'input_channel': 3},\n",
       " 'completed_epochs': 0}"
      ]
     },
     "execution_count": null,
     "metadata": {},
     "output_type": "execute_result"
    }
   ],
   "source": [
    "import paddlex as pdx\r\n",
    "\r\n",
    "yolo_v3 = pdx.det.YOLOv3(\r\n",
    "    num_classes=2, \r\n",
    "    backbone='DarkNet53'\r\n",
    ")\r\n",
    "\r\n",
    "yolo_v3.get_model_info()"
   ]
  },
  {
   "cell_type": "markdown",
   "metadata": {
    "collapsed": false
   },
   "source": [
    "### 人像分割\n",
    "\n",
    "基于PaddleX核心分割模型 Deeplabv3+Xcetion65 & HRNet_w18_small_v1 实现[人像分割](https://paddlex.readthedocs.io/zh_CN/develop/examples/human_segmentation.html)，PaddleX提供了人像分割的预训练模型，可直接使用，当然也可以根据自己的数据做微调。"
   ]
  },
  {
   "cell_type": "markdown",
   "metadata": {
    "collapsed": false
   },
   "source": [
    "下载PaddleX源码:"
   ]
  },
  {
   "cell_type": "code",
   "execution_count": 8,
   "metadata": {
    "collapsed": false
   },
   "outputs": [
    {
     "name": "stdout",
     "output_type": "stream",
     "text": [
      "Cloning into 'PaddleX'...\n",
      "remote: Enumerating objects: 1890, done.\u001b[K\n",
      "remote: Counting objects: 100% (1890/1890), done.\u001b[K\n",
      "remote: Compressing objects: 100% (682/682), done.\u001b[K\n",
      "remote: Total 20433 (delta 1201), reused 1849 (delta 1180), pack-reused 18543\u001b[K\n",
      "Receiving objects: 100% (20433/20433), 77.88 MiB | 9.81 MiB/s, done.\n",
      "Resolving deltas: 100% (13546/13546), done.\n",
      "Checking connectivity... done.\n"
     ]
    }
   ],
   "source": [
    "!git clone https://gitee.com/PaddlePaddle/PaddleX"
   ]
  },
  {
   "cell_type": "markdown",
   "metadata": {
    "collapsed": false
   },
   "source": [
    "下载预训练模型的代码位于PaddleX/examples/human_segmentation，进入该目录，并下载预训练模型："
   ]
  },
  {
   "cell_type": "code",
   "execution_count": 15,
   "metadata": {
    "collapsed": false
   },
   "outputs": [],
   "source": [
    "%cd PaddleX/examples/human_segmentation"
   ]
  },
  {
   "cell_type": "code",
   "execution_count": 16,
   "metadata": {
    "collapsed": false
   },
   "outputs": [],
   "source": [
    "!python pretrain_weights/download_pretrain_weights.py"
   ]
  },
  {
   "cell_type": "markdown",
   "metadata": {
    "collapsed": false
   },
   "source": [
    "对人像视频进行分割处理："
   ]
  },
  {
   "cell_type": "code",
   "execution_count": 17,
   "metadata": {
    "collapsed": false
   },
   "outputs": [],
   "source": [
    "!python video_infer.py --model_dir pretrain_weights/humanseg_mobile_inference --video_path data/test.mp4"
   ]
  },
  {
   "cell_type": "markdown",
   "metadata": {
    "collapsed": false
   },
   "source": [
    "预测结果会保存到output文件夹下的result.avi文件里。"
   ]
  },
  {
   "cell_type": "markdown",
   "metadata": {
    "collapsed": false
   },
   "source": [
    "![](https://ai-studio-static-online.cdn.bcebos.com/6e6d2b5ab2c94b64afb3ee1728bdf7c1f29f454d76d1420286e9d98260d05ae4)\n"
   ]
  },
  {
   "cell_type": "markdown",
   "metadata": {
    "collapsed": false
   },
   "source": [
    "### 文字识别\n",
    "\n",
    "基于chinese_ocr_db_crnn_mobile实现[文字识别](https://www.paddlepaddle.org.cn/hubdetail?name=chinese_ocr_db_crnn_mobile&en_category=TextRecognition)，识别图片当中的汉字，该Module是一个超轻量级中文OCR模型，支持直接预测。"
   ]
  },
  {
   "cell_type": "markdown",
   "metadata": {
    "collapsed": false
   },
   "source": [
    "安装文字识别模型以及必要的资源库："
   ]
  },
  {
   "cell_type": "code",
   "execution_count": 18,
   "metadata": {
    "collapsed": false
   },
   "outputs": [],
   "source": [
    "!hub install chinese_ocr_db_crnn_mobile==1.1.2"
   ]
  },
  {
   "cell_type": "code",
   "execution_count": 19,
   "metadata": {
    "collapsed": false
   },
   "outputs": [],
   "source": [
    "!pip install shapely\r\n",
    "!pip install pyclipper"
   ]
  },
  {
   "cell_type": "markdown",
   "metadata": {
    "collapsed": false
   },
   "source": [
    "调用预训练模型进行预测："
   ]
  },
  {
   "cell_type": "code",
   "execution_count": 23,
   "metadata": {
    "collapsed": false
   },
   "outputs": [],
   "source": [
    "import paddlehub as hub\r\n",
    "import cv2\r\n",
    "\r\n",
    "ocr = hub.Module(name=\"chinese_ocr_db_crnn_mobile\")\r\n",
    "result = ocr.recognize_text(images=[cv2.imread('/home/aistudio/work/OCR/ocrdemo.png')], \r\n",
    "                            output_dir='/home/aistudio/work/OCR/ocr_result', \r\n",
    "                            visualization=True)\r\n"
   ]
  },
  {
   "cell_type": "markdown",
   "metadata": {
    "collapsed": false
   },
   "source": [
    "![](https://ai-studio-static-online.cdn.bcebos.com/46507916316a43d9a0e129c76b1668a03ef8cf9e817a469e854aaf82354cd1ea)"
   ]
  },
  {
   "cell_type": "markdown",
   "metadata": {
    "collapsed": false
   },
   "source": [
    "# 二、模型训练\n",
    "\n",
    "仅基于原生Python和Numpy看模型训练**基本原理**：[神经网络梯度下降原理详解](https://aistudio.baidu.com/aistudio/projectdetail/757995)"
   ]
  },
  {
   "cell_type": "markdown",
   "metadata": {
    "collapsed": false
   },
   "source": [
    "### 1.基于高层API训练模型\n",
    "\n",
    "通过Model.prepare接口来对训练进行提前的配置准备工作，包括设置模型优化器，Loss计算方法，精度计算方法等。\n",
    "\n",
    "```\n",
    "import paddle\n",
    "\n",
    "# 使用paddle.Model完成模型的封装\n",
    "model = paddle.Model(Net)\n",
    "\n",
    "# 为模型训练做准备，设置优化器，损失函数和精度计算方式\n",
    "model.prepare(optimizer=paddle.optimizer.Adam(parameters=model.parameters()),\n",
    "              loss=paddle.nn.CrossEntropyLoss(),\n",
    "              metrics=paddle.metric.Accuracy())\n",
    "\n",
    "# 调用fit()接口来启动训练过程\n",
    "model.fit(train_dataset,\n",
    "          epochs=1,\n",
    "          batch_size=64,\n",
    "          verbose=1)\n",
    "```"
   ]
  },
  {
   "cell_type": "markdown",
   "metadata": {
    "collapsed": false
   },
   "source": [
    "#### 加载数据集\n",
    "\n",
    "论文里将gMLP应用到ImageNet上的图像分类任务中，而不使用额外的数据，从而在视觉领域检查gMLP。但是ImageNet数据集较大，为了节省时间，这里使用Cifar10进行验证。"
   ]
  },
  {
   "cell_type": "code",
   "execution_count": null,
   "metadata": {
    "collapsed": false
   },
   "outputs": [],
   "source": [
    "import paddle.vision as vision\r\n",
    "import paddle\r\n",
    "import paddle.vision.transforms as transforms\r\n",
    "from paddle.vision.transforms import Normalize\r\n",
    "\r\n",
    "normalize = transforms.Normalize(\r\n",
    "    [0.4914*255, 0.4822*255, 0.4465*255], [0.2023*255, 0.1994*255, 0.2010*255])\r\n",
    "\r\n",
    "trainTransforms = transforms.Compose([\r\n",
    "                transforms.RandomCrop(32, padding=4),\r\n",
    "                transforms.RandomHorizontalFlip(), \r\n",
    "                transforms.Transpose(),\r\n",
    "                normalize\r\n",
    "            ])\r\n",
    "\r\n",
    "testTransforms = transforms.Compose([\r\n",
    "                transforms.Transpose(),\r\n",
    "                normalize\r\n",
    "            ])\r\n",
    "\r\n",
    "trainset = vision.datasets.Cifar10(mode='train', transform=trainTransforms)\r\n",
    "trainloader = paddle.io.DataLoader(trainset, batch_size=128, num_workers=0, shuffle=True)\r\n",
    "testset = vision.datasets.Cifar10(mode='test', transform=testTransforms)\r\n",
    "testloader = paddle.io.DataLoader(testset, batch_size=128, num_workers=0, shuffle=True)"
   ]
  },
  {
   "cell_type": "markdown",
   "metadata": {
    "collapsed": false
   },
   "source": [
    "#### 模型封装\n",
    "\n",
    "以使用paddle.Model完成模型的封装，将网络结构组合成一个可快速使用高层API进行训练和预测的对象。代码如下："
   ]
  },
  {
   "cell_type": "code",
   "execution_count": null,
   "metadata": {
    "collapsed": false
   },
   "outputs": [],
   "source": [
    "model = paddle.Model(gmlp_vision)"
   ]
  },
  {
   "cell_type": "markdown",
   "metadata": {
    "collapsed": false
   },
   "source": [
    "#### 训练参数配置\n",
    "\n",
    "用paddle.Model完成模型的封装后，在训练前，需要对模型进行配置，通过Model.prepare接口来对训练进行提前的配置准备工作，包括设置模型优化器，Loss计算方法，精度计算方法等。"
   ]
  },
  {
   "cell_type": "code",
   "execution_count": null,
   "metadata": {
    "collapsed": false
   },
   "outputs": [],
   "source": [
    "# 调用飞桨框架的VisualDL模块，保存信息到目录中。\r\n",
    "callback = paddle.callbacks.VisualDL(log_dir='gMLP_log_dir')\r\n",
    "\r\n",
    "def create_optim(parameters):\r\n",
    "    step_each_epoch = len(trainloader) // 128\r\n",
    "    lr = paddle.optimizer.lr.CosineAnnealingDecay(learning_rate=0.25,\r\n",
    "                                                  T_max=step_each_epoch * 120)\r\n",
    "\r\n",
    "    return paddle.optimizer.Adam(learning_rate=lr,\r\n",
    "                                 parameters=parameters,\r\n",
    "                                 weight_decay=paddle.regularizer.L2Decay(3e-4))\r\n",
    "\r\n",
    "model.prepare(create_optim(model.parameters()),  # 优化器\r\n",
    "              paddle.nn.CrossEntropyLoss(),        # 损失函数\r\n",
    "              paddle.metric.Accuracy(topk=(1, 5))) # 评估指标"
   ]
  },
  {
   "cell_type": "markdown",
   "metadata": {
    "collapsed": false
   },
   "source": [
    "#### 模型训练\n",
    "\n",
    "做好模型训练的前期准备工作后，调用fit()接口来启动训练过程，需要指定至少3个关键参数：训练数据集，训练轮次和单次训练数据批次大小。"
   ]
  },
  {
   "cell_type": "code",
   "execution_count": null,
   "metadata": {
    "collapsed": false
   },
   "outputs": [],
   "source": [
    "model.fit(trainloader,\r\n",
    "          testloader,\r\n",
    "          epochs=120,\r\n",
    "          eval_freq=2,\r\n",
    "          shuffle=True, \r\n",
    "          save_dir='gMLP_case1_chk_points/',\r\n",
    "          save_freq=20,\r\n",
    "          batch_size=128,\r\n",
    "          callbacks=callback,\r\n",
    "          verbose=1)"
   ]
  },
  {
   "cell_type": "markdown",
   "metadata": {
    "collapsed": false
   },
   "source": [
    "```\n",
    "Epoch 120/120\n",
    "step 391/391 [==============================] - loss: 1.3216 - acc_top1: 0.6175 - acc_top5: 0.9607 - 311ms/step\n",
    "\n",
    "Eval begin...\n",
    "step 79/79 [==============================] - loss: 0.6662 - acc_top1: 0.6014 - acc_top5: 0.9587 - 92ms/step        \n",
    "Eval samples: 10000\n",
    "```"
   ]
  },
  {
   "cell_type": "markdown",
   "metadata": {
    "collapsed": false
   },
   "source": [
    "### 2.使用PaddleX训练模型\n",
    "\n",
    "YOLOv3模型的训练接口示例，函数内置了piecewise学习率衰减策略和momentum优化器。\n",
    "\n",
    "```\n",
    "model.train(\n",
    "    num_epochs=270,\n",
    "    train_dataset=train_dataset,\n",
    "    train_batch_size=8,\n",
    "    eval_dataset=eval_dataset,\n",
    "    learning_rate=0.000125,\n",
    "    lr_decay_epochs=[210, 240],\n",
    "    save_dir='output/yolov3_darknet53',\n",
    "    use_vdl=True)\n",
    "```"
   ]
  },
  {
   "cell_type": "markdown",
   "metadata": {
    "collapsed": false
   },
   "source": [
    "#### 配置数据集"
   ]
  },
  {
   "cell_type": "code",
   "execution_count": null,
   "metadata": {
    "collapsed": false
   },
   "outputs": [],
   "source": [
    "from paddlex.det import transforms\r\n",
    "import paddlex as pdx\r\n",
    "\r\n",
    "# 下载和解压昆虫检测数据集\r\n",
    "insect_dataset = 'https://bj.bcebos.com/paddlex/datasets/insect_det.tar.gz'\r\n",
    "pdx.utils.download_and_decompress(insect_dataset, path='./')\r\n",
    "\r\n",
    "# 定义训练和验证时的transforms\r\n",
    "# API说明 https://paddlex.readthedocs.io/zh_CN/develop/apis/transforms/det_transforms.html\r\n",
    "train_transforms = transforms.Compose([\r\n",
    "    transforms.MixupImage(mixup_epoch=250), transforms.RandomDistort(),\r\n",
    "    transforms.RandomExpand(), transforms.RandomCrop(), transforms.Resize(\r\n",
    "        target_size=608, interp='RANDOM'), transforms.RandomHorizontalFlip(),\r\n",
    "    transforms.Normalize()\r\n",
    "])\r\n",
    "\r\n",
    "eval_transforms = transforms.Compose([\r\n",
    "    transforms.Resize(\r\n",
    "        target_size=608, interp='CUBIC'), transforms.Normalize()\r\n",
    "])\r\n",
    "\r\n",
    "# 定义训练和验证所用的数据集\r\n",
    "# API说明：https://paddlex.readthedocs.io/zh_CN/develop/apis/datasets.html#paddlex-datasets-vocdetection\r\n",
    "train_dataset = pdx.datasets.VOCDetection(\r\n",
    "    data_dir='insect_det',\r\n",
    "    file_list='insect_det/train_list.txt',\r\n",
    "    label_list='insect_det/labels.txt',\r\n",
    "    transforms=train_transforms,\r\n",
    "    shuffle=True)\r\n",
    "eval_dataset = pdx.datasets.VOCDetection(\r\n",
    "    data_dir='insect_det',\r\n",
    "    file_list='insect_det/val_list.txt',\r\n",
    "    label_list='insect_det/labels.txt',\r\n",
    "    transforms=eval_transforms)\r\n"
   ]
  },
  {
   "cell_type": "markdown",
   "metadata": {
    "collapsed": false
   },
   "source": [
    "#### 初始化模型"
   ]
  },
  {
   "cell_type": "code",
   "execution_count": null,
   "metadata": {
    "collapsed": false
   },
   "outputs": [],
   "source": [
    "# 可使用VisualDL查看训练指标，参考https://paddlex.readthedocs.io/zh_CN/develop/train/visualdl.html\r\n",
    "num_classes = len(train_dataset.labels)\r\n",
    "\r\n",
    "# API说明: https://paddlex.readthedocs.io/zh_CN/develop/apis/models/detection.html#paddlex-det-yolov3\r\n",
    "model = pdx.det.YOLOv3(num_classes=num_classes, backbone='DarkNet53')"
   ]
  },
  {
   "cell_type": "markdown",
   "metadata": {
    "collapsed": false
   },
   "source": [
    "#### 模型训练"
   ]
  },
  {
   "cell_type": "code",
   "execution_count": null,
   "metadata": {
    "collapsed": false
   },
   "outputs": [],
   "source": [
    "# API说明: https://paddlex.readthedocs.io/zh_CN/develop/apis/models/detection.html#id1\r\n",
    "# 各参数介绍与调整说明：https://paddlex.readthedocs.io/zh_CN/develop/appendix/parameters.html\r\n",
    "model.train(\r\n",
    "    num_epochs=270,\r\n",
    "    train_dataset=train_dataset,\r\n",
    "    train_batch_size=8,\r\n",
    "    eval_dataset=eval_dataset,\r\n",
    "    learning_rate=0.000125,\r\n",
    "    lr_decay_epochs=[210, 240],\r\n",
    "    save_dir='output/yolov3_darknet53',\r\n",
    "    use_vdl=True)"
   ]
  },
  {
   "cell_type": "markdown",
   "metadata": {
    "collapsed": false
   },
   "source": [
    "```\n",
    "2021-07-15 20:52:54 [INFO]\tDecompressing output/yolov3_darknet53/pretrain/DarkNet53_ImageNet1k_pretrained.tar...\n",
    "2021-07-15 20:52:55 [INFO]\tLoad pretrain weights from output/yolov3_darknet53/pretrain/DarkNet53_ImageNet1k_pretrained.\n",
    "2021-07-15 20:52:55 [INFO]\tThere are 260 varaibles in output/yolov3_darknet53/pretrain/DarkNet53_ImageNet1k_pretrained are loaded.\n",
    "2021-07-15 20:53:03 [INFO]\t[TRAIN] Epoch=1/270, Step=2/21, loss=18702.005859, lr=0.0, time_each_step=3.84s, eta=6:5:32\n",
    "2021-07-15 20:53:04 [INFO]\t[TRAIN] Epoch=1/270, Step=4/21, loss=8156.868164, lr=0.0, time_each_step=2.12s, eta=3:21:43\n",
    "2021-07-15 20:53:04 [INFO]\t[TRAIN] Epoch=1/270, Step=6/21, loss=10086.267578, lr=1e-06, time_each_step=1.53s, eta=2:25:42\n",
    "```"
   ]
  },
  {
   "cell_type": "markdown",
   "metadata": {
    "collapsed": false
   },
   "source": [
    "### 3.模型训练通用配置基本原则\n",
    "\n",
    "1. 每个输入数据的维度要保持一致，且一定要和模型输入保持一致。\n",
    "2. 配置学习率衰减策略时，训练的上限轮数一定要计算正确。\n",
    "3. BatchSize不宜过大，太大容易内存溢出，且一般为2次幂。"
   ]
  },
  {
   "cell_type": "markdown",
   "metadata": {
    "collapsed": false
   },
   "source": [
    "# 三、超参优化"
   ]
  },
  {
   "cell_type": "markdown",
   "metadata": {
    "collapsed": false
   },
   "source": [
    "## 1.超参优化的基本概念\n",
    "\n",
    "\n",
    "### 参数\n",
    "\n",
    "参数是机器学习算法的关键，是从训练数据中学习到的，属于模型的一部分。\n",
    "\n",
    "![](https://ai-studio-static-online.cdn.bcebos.com/574d04bab0344f8fbcbbdb9bdb1a6c7393b1d6c550474f7f8056cb0048f086c8)\n",
    "\n",
    "输入一个值（x），乘以权重，结果就是网络的输出值。权重可以随着网络的训练进行更新,从而找到最佳的值,这样网络就能尝试匹配输出值与目标值。\n",
    "\n",
    "这里的权重其实就是一种参数。\n",
    "\n",
    "\n",
    "### 超参数\n",
    "\n",
    "模型的超参数指的是**模型外部**的配置变量，是不能通过训练的进行来估计其取值不同的，且不同的训练任务往往需要不同的超参数。\n",
    "\n",
    "超参数不同，最终得到的模型也是不同的。\n",
    "\n",
    "一般来说，超参数有：**学习率**，**迭代次数**，**网络的层数**，**每层神经元的个数**等等。\n",
    "\n",
    "常见的超参数有以下三类：\n",
    "1. **网络结构**，包括神经元之间的连接关系、层数、每层的神经元数量、激活函数的类型等 .\n",
    "2. **优化参数**，包括优化方法、学习率、小批量的样本数量等 .\n",
    "3. **正则化系数** \n",
    "\n",
    "实践中，当你使⽤神经⽹络解决问题时，**寻找好的超参数其实是一件非常困难的事情**，对于刚刚接触的同学来说，都是\"佛系调优\"，这也是一开始就\"入土\"的原因，没有依据的盲目瞎调肯定是不行的。\n",
    "\n",
    "\n",
    "\n",
    "## 2.手动调整超参数的四大方法\n",
    "\n",
    "我们在使用某一网络时，一般是比较好的论文中出现过的，是证明过的，当然也可以直接套用，然后在这个基础上，调参。\n",
    "\n",
    "可是如果识别的领域不同，比如同样是LeNet网络，在解决手写数字识别时使用的超参数能得到很好的效果，但是在做眼疾识别时，因为数据集的不同，虽然使用同样的超参数，但是效果可能并不理想。\n",
    "\n",
    "在<< Neural Network and Deep Learning >>这本书中，作者给出⼀些⽤于设定超参数的启发式想法。⽬的是帮读者发展出⼀套工作流来确保很好地设置超参数。这里我把书上的内容总结一下，再结合自己的思考，与大家共同探讨调整超参数的方法论。\n",
    "\n",
    "不过呢，**目前不存在⼀种通用的关于正确策略的共同认知**，这也是超参数调节的\"玄学\"之处。\n",
    "\n",
    "\n",
    "### 1）使用提前停止来确定训练的迭代次数\n",
    "\n",
    "这个策略是我的老师最早教我的，个人认为这也是防止过拟合最直接的方式。\n",
    "\n",
    "做法其实很简单，做一个判断，满足条件时退出循环,终止训练：\n",
    "\n",
    "```python\n",
    "for epoch in range(MAX_EPOCH):\n",
    "\t// 训练代码\n",
    "\tprint('{}[TRAIN]epoch {}, iter {}, output loss: {}'.format(timestring, epoch, i, loss.numpy()))\n",
    "\tif ():\n",
    "\t\tbreak\n",
    "\tmodel.train()\n",
    "```\n",
    "\n",
    "\n",
    "那么这个if条件判断就十分重要了,这里有两种方案:\n",
    "\n",
    "1. 分类准确率不再提升时\n",
    "2. loss降到一个想要的范围时\n",
    "\n",
    "\n",
    "\n",
    "#### 分类准确率不再提升时\n",
    "\n",
    "我们需要再明确⼀下什么叫做分类准确率不再提升，这样方可实现提前停止。\n",
    "\n",
    "我们知道，分类准确率在整体趋势下降的时候仍旧会抖动或者震荡。如果我们在准确度刚开始下降的时候就停止，那么肯定会错过更好的选择。⼀种不错的解决方案是如果分类准确率在⼀段时间内不再提升的时候终止。\n",
    "\n",
    "当然这块用loss也是可以的，loss也是一个评判标准。\n",
    "\n",
    "\n",
    "\n",
    "#### loss降到一个想要的范围时\n",
    "\n",
    "这是我经常使用的、更直接的方法。\n",
    "\n",
    "因为网络有时候会在很长时间内于⼀个特定的分类准确率附近形成平缓的局面，然后才会有提升。如果你想获得相当好的性能，第一种方案（分类准确率不再提升时）的规则可能就会太过激进了 —— 停止得太草率。\n",
    "\n",
    "而本方案（loss降到一个想要的范围时）能很好地解决这一问题，但随之而来的问题就是不知不觉地又多了一个超参数，实际应用上，这个用于条件判断的loss值的选择也很困难。\n",
    "\n",
    "### 2）让学习率从高逐渐降低\n",
    "\n",
    "我们⼀直都将学习速率设置为常量。但是，通常采用可变的学习速率更加有效。\n",
    "\n",
    "如果学习率设置的过低，在训练的前期，训练速度会非常慢；而学习率设置地过高，在训练的后期，又会产生震荡，降低模型的精度：\n",
    "\n",
    "![](https://ai-studio-static-online.cdn.bcebos.com/9e259595dbb545cb8e61c4e0bbe68e6c216a86f43b1240fb812eb9be04c3a26e)\n",
    "\n",
    "所以最好是在前期使用一个较大的学习速率让权重变化得更快。越往后，我们可以降低学习速率，这样可以作出更加精良的调整。\n",
    "\n",
    "⼀种自然的观点是使用提前终止的想法。就是保持学习速率为⼀个常量直到验证准确率开始变差，然后按照某个量下降学习速率。我们重复此过程若干次，直到学习速率是初始值的 1/1024（或者1/1000）,然后终止训练。\n",
    "\n",
    "### 3）宽泛策略\n",
    "\n",
    "在使用神经网络来解决新的问题时，⼀个挑战就是获得任何⼀种非寻常的学习，也就是说，达到比随机的情况更好的结果。\n",
    "\n",
    "也许下面的方法能给你带来某些不一样的启发:\n",
    "\n",
    "1. 通过简化网络来加速实验进行更有意义的学习\n",
    "2. 通过更加频繁的监控验证准确率来获得反馈\n",
    "\n",
    "\n",
    "\n",
    "#### 通过简化网络来加速实验进行更有意义的学习\n",
    "\n",
    "假设，我们第⼀次遇到 MNIST 分类问题。刚开始，你很有激情，但是当模型完全失效时，你会就得有些沮丧。\n",
    "\n",
    "此时就可以将问题简化，将十分类问题转化成二分类问题。丢开训练和验证集中的那些除了 0 和 1的那些图像，即我们只识别0和1。然后试着训练⼀个网络来区分 0 和 1。\n",
    "\n",
    "这样一来，不仅仅问题比 10 个分类的情况简化了，同样也会减少 80% 的训练数据，这样就多出了 5 倍的加速。同时也可以保证更快的实验，也能给予你关于如何构建好的网络更快的洞察。\n",
    "\n",
    "#### 通过更加频繁的监控验证准确率来获得反馈\n",
    "\n",
    "这个方法调的其实是输出:\n",
    "\n",
    "```python\n",
    "if i % 200 == 0:\n",
    "\ttimestring = time.strftime(\"%Y-%m-%d %H:%M:%S\",time.localtime(time.time()))\n",
    "\tprint('{}[VALID]epoch {}, iter {}, output loss: {}'.format(timestring, epoch, i, loss.numpy()))\n",
    "```\n",
    "对模型本身并没有任何关系，但是，你能得到更多并且更快地得到反馈，从而快速地实验其他的超参数，或者甚至近同步地进行不同参数的组合的评比。\n",
    "\n",
    "这一点看似不重要，但对于超参数的调整来说,是很重要的一步\n",
    "\n",
    "因为在实际的应用中，很容易会遇到神经网络学习不到任何知识的情况。你可能要花费若干天在调整参数上，仍然没有进展。所以在前期的时候，就应该从实验中尽可能早的获得快速反馈。直觉上看，这看起来简化问题和架构仅仅会降低你的效率。而实际上，这样能够将进度加快，因为你能够更快地找到传达出有意义的信号的网络。⼀旦你获得这些信号，你可以尝试通过微调超参数获得快速的性能提升。\n",
    "\n",
    "这和人生中很多情况⼀样 —— 万事开头难。\n",
    "\n",
    "### 4）小批量数据(mini-batch)大小不必最优\n",
    "\n",
    "假设我们使用大小为 1 的小批量数据。而一般来说，使用只有⼀个样本的小批量数据会带来关于梯度的错误估计。\n",
    "\n",
    "而实际上，误差并不会真的产⽣这个问题。原因在于单⼀的梯度估计不需要绝对精确。我们需要的是确保代价函数保持下降足够精确的估计。\n",
    "\n",
    "这就好像你现在要去北极点，但是只有⼀个不太精确的指南针。如果你不再频繁地检查指南针，指南针会在平均状况下给出正确的⽅向，所以最后你也能抵达北极点。\n",
    "\n",
    "不过使用更大的小批量数据看起来还是显著地能够进行训练加速的。\n",
    "\n",
    "所以，选择最好的小批量数据大小是⼀种折中。小批量数据太小会加长训练时间；而小批量数据太大是不能够足够频繁地更新权重的。你所需要的是选择⼀个折中的值，可以最大化学习的速度。\n",
    "\n",
    "幸运的是，小批量数据大小的选择其实是相对独立的⼀个超参数（网络整体架构外的参数），所以你不需要优化那些参数来寻找好的小批量数据大小。\n",
    "\n",
    "因此，可以选择的方式就是使用某些可以接受的值（不需要是最优的）作为其他参数的选择，然后进行不同小批量数据大小的尝试，就像上面调整学习率那样,画出验证准确率的值随时间（非回合）变化的图，选择得到最快性能提升的小批量数据大小。\n"
   ]
  },
  {
   "cell_type": "markdown",
   "metadata": {
    "collapsed": false
   },
   "source": [
    "# 四、效果展示\n",
    "\n",
    "## 1.可视化输入与输出\n",
    "\n",
    "直接可视化输入与输出是最直接的方法。\n",
    "\n",
    "```\n",
    "import numpy as np\n",
    "import cv2\n",
    "import matplotlib.pyplot as plt\n",
    "\n",
    "img = cv2.imread(PATH_TO_IMAGE)\n",
    "img = cv2.cvtColor(img, cv2.COLOR_BGR2RGB)\n",
    "\n",
    "plt.imshow(img)\n",
    "plt.show()\n",
    "```\n",
    "\n",
    "![](https://ai-studio-static-online.cdn.bcebos.com/ce8f83a24ec1423789311f8f8bf674741db96dc8990b450188ed7d7d17d596c3)\n"
   ]
  },
  {
   "cell_type": "markdown",
   "metadata": {
    "collapsed": false
   },
   "source": [
    "## 2.巧用VisualDL\n",
    "\n",
    "VisualDL文档：[https://ai.baidu.com/ai-doc/AISTUDIO/Dk3e2vxg9#visualdl%E5%B7%A5%E5%85%B7](https://ai.baidu.com/ai-doc/AISTUDIO/Dk3e2vxg9#visualdl%E5%B7%A5%E5%85%B7)\n",
    "\n",
    "<p align=\"center\">\n",
    "  <img src=\"https://user-images.githubusercontent.com/48054808/119312835-709e9980-bca5-11eb-9fce-2bbd2523dedb.gif\" width=\"70%\"/>\n",
    "</p>\n",
    "\n",
    "完整示例代码请参考：[VisualDL2.2全新升级--可视化分析助力模型快速开发](https://aistudio.baidu.com/aistudio/projectdetail/1990920)"
   ]
  },
  {
   "cell_type": "code",
   "execution_count": 24,
   "metadata": {
    "collapsed": false
   },
   "outputs": [],
   "source": [
    "!pip install --upgrade visualdl"
   ]
  },
  {
   "cell_type": "markdown",
   "metadata": {
    "collapsed": false
   },
   "source": [
    "### VisualDL可视化流程\n",
    "\n",
    "1. 创建日志文件：\n",
    "\n",
    "*为了快速找到最佳超参，训练9个不同组合的超参实验，创建方式均相同如下：\n",
    "\n",
    "```\n",
    "writer = LogWriter(\"./log/lenet/run1\")\n",
    "```\n",
    "\n",
    "2. 训练前记录每组实验的超参数名称和数值，且记录想要展示的模型指标名称\n",
    "\n",
    "```\n",
    "writer.add_hparams({'learning rate':0.0001, 'batch size':64, 'optimizer':'Adam'}, ['train/loss', 'train/acc'])\n",
    "```\n",
    "\n",
    "**注意：这里记录的想要展示的模型指标为'train/loss'和 'train/acc'，后续切记需要用`add_scalar`接口记录对应数值**\n",
    "\n",
    "3. 训练过程中插入作图语句，记录accuracy和loss的变化趋势，同时将展示于Scalar和HyperParameters两个界面中：\n",
    "```\n",
    "writer.add_scalar(tag=\"train/loss\", step=step, value=cost)\n",
    "\n",
    "writer.add_scalar(tag=\"train/acc\", step=step, value=accuracy)\n",
    "```\n",
    "4. 记录每一批次中的第一张图片：\n",
    "```\n",
    "img = np.reshape(batch[0][0], [28, 28, 1]) * 255\n",
    "\n",
    "writer.add_image(tag=\"train/input\", step=step, img=img)\n",
    "```\n",
    "5. 记录训练过程中每一层网络权重（weight）、偏差（bias）的变化趋势：\n",
    "```\n",
    "writer.add_histogram(tag='train/{}'.format(param), step=step, values=values)\n",
    "```\n",
    "6. 记录分类效果--precision & recall曲线：\n",
    "```\n",
    "writer.add_pr_curve(tag='train/class_{}_pr_curve'.format(i),\n",
    "                     labels=label_i,\n",
    "                     predictions=prediction_i,\n",
    "                     step=step,\n",
    "                     num_thresholds=20)\n",
    "\n",
    "writer.add_roc_curve(tag='train/class_{}_pr_curve'.format(i),\n",
    "                     labels=label_i,\n",
    "                     predictions=prediction_i,\n",
    "                     step=step,\n",
    "                     num_thresholds=20)\n",
    "```\n",
    "7. 保存模型结构：\n",
    "```\n",
    "fluid.io.save_inference_model(dirname='./model', feeded_var_names=['img'],target_vars=[predictions], executor=exe)\n",
    "```"
   ]
  },
  {
   "cell_type": "markdown",
   "metadata": {
    "collapsed": false
   },
   "source": [
    "## 3.权重可视化\n",
    "\n",
    "InterpretDL源码：[https://github.com/PaddlePaddle/InterpretDL](https://github.com/PaddlePaddle/InterpretDL)\n",
    "\n",
    "![](https://ai-studio-static-online.cdn.bcebos.com/4b819555ed114bb48288621b44b3e5f3de04e7381d434693b91d1e88c4862dd8)\n"
   ]
  },
  {
   "cell_type": "code",
   "execution_count": 27,
   "metadata": {
    "collapsed": false
   },
   "outputs": [],
   "source": [
    "!pip install interpretdl"
   ]
  },
  {
   "cell_type": "code",
   "execution_count": 30,
   "metadata": {
    "collapsed": false
   },
   "outputs": [
    {
     "name": "stderr",
     "output_type": "stream",
     "text": [
      "2021-07-23 17:26:40,763 - INFO - unique_endpoints {''}\n",
      "2021-07-23 17:26:40,764 - INFO - File /home/aistudio/.cache/paddle/hapi/weights/resnet50.pdparams md5 checking...\n",
      "2021-07-23 17:26:41,126 - INFO - Found /home/aistudio/.cache/paddle/hapi/weights/resnet50.pdparams\n",
      "100%|██████████| 50/50 [00:02<00:00, 24.20it/s]\n"
     ]
    },
    {
     "name": "stdout",
     "output_type": "stream",
     "text": [
      "(224, 224, 3) (3, 224, 224)\n"
     ]
    },
    {
     "data": {
      "image/png": "[encoded data removed]",
      "text/plain": [
       "<Figure size 432x288 with 1 Axes>"
      ]
     },
     "metadata": {},
     "output_type": "display_data"
    }
   ],
   "source": [
    "import interpretdl as it\r\n",
    "from paddle.vision.models import resnet50\r\n",
    "\r\n",
    "paddle_model = resnet50(pretrained=True)\r\n",
    "sg = it.SmoothGradInterpreter(paddle_model, use_cuda=True)\r\n",
    "gradients = sg.interpret(\"/home/aistudio/8.png\", visual=True, save_path=None)"
   ]
  },
  {
   "cell_type": "code",
   "execution_count": 33,
   "metadata": {
    "collapsed": false
   },
   "outputs": [],
   "source": [
    "ResNet50_result = [n for n, v in paddle_model.named_sublayers()]\r\n",
    "print(ResNet50_result)"
   ]
  },
  {
   "cell_type": "code",
   "execution_count": 35,
   "metadata": {
    "collapsed": false
   },
   "outputs": [
    {
     "data": {
      "image/png": "[encoded data removed]",
      "text/plain": [
       "<Figure size 432x288 with 1 Axes>"
      ]
     },
     "metadata": {},
     "output_type": "display_data"
    }
   ],
   "source": [
    "gradcam = it.GradCAMInterpreter(paddle_model, use_cuda=True)\r\n",
    "\r\n",
    "heatmap = gradcam.interpret(\r\n",
    "        \"/home/aistudio/8.png\",\r\n",
    "        'conv1',\r\n",
    "        visual=True,\r\n",
    "        save_path=None)"
   ]
  },
  {
   "cell_type": "markdown",
   "metadata": {
    "collapsed": false
   },
   "source": [
    "# 五、总结与升华\n",
    "\n",
    "- 本文最重要的地方在于神经网络工作的基本原理，只有搞懂了原理，才能更好地进行超参优化，得到的模型效果才会更好。\n",
    "- 对于模型组网，最重要的是学会使用SubClass形式组网，使用套件虽然简单，但是可定制化程度较低，如果是科研需要，建议一定要学会用SubClass形式组网。\n",
    "- 模型训练是本文中最简单的部分，只需要按照文档在操作即可，但是超参数的选择有很多讲究，超参的好坏往往会影响模型的最终结果\n",
    "- 效果展示是一个项目的加分项，如果是科研需要，那么你也需要可视化地展示你的工作成果，这也是十分重要的。"
   ]
  },
  {
   "cell_type": "markdown",
   "metadata": {
    "collapsed": false
   },
   "source": [
    "# 作者简介\n",
    "\n",
    "> 北京联合大学 机器人学院 自动化专业 2018级 本科生 郑博培\n",
    "\n",
    "> 中国科学院自动化研究所复杂系统管理与控制国家重点实验室实习生\n",
    "\n",
    "> 百度飞桨开发者技术专家 PPDE\n",
    "\n",
    "> 百度飞桨官方帮帮团、答疑团成员\n",
    "\n",
    "> 深圳柴火创客空间 认证会员\n",
    "\n",
    "> 百度大脑 智能对话训练师\n",
    "\n",
    "> 阿里云人工智能、DevOps助理工程师\n",
    "\n",
    "我在AI Studio上获得至尊等级，点亮10个徽章，来互关呀！！！<br>\n",
    "[https://aistudio.baidu.com/aistudio/personalcenter/thirdview/147378](https://aistudio.baidu.com/aistudio/personalcenter/thirdview/147378)\n",
    "\n",
    "![](https://ai-studio-static-online.cdn.bcebos.com/187d359bec3349c5a5e581bea14a4d2fb121952a86c342aea0eca063ed17b9a1)\n"
   ]
  }
 ],
 "metadata": {
  "kernelspec": {
   "display_name": "PaddlePaddle 2.0.0b0 (Python 3.5)",
   "language": "python",
   "name": "py35-paddle1.2.0"
  },
  "language_info": {
   "codemirror_mode": {
    "name": "ipython",
    "version": 3
   },
   "file_extension": ".py",
   "mimetype": "text/x-python",
   "name": "python",
   "nbconvert_exporter": "python",
   "pygments_lexer": "ipython3",
   "version": "3.7.4"
  }
 },
 "nbformat": 4,
 "nbformat_minor": 1
}
