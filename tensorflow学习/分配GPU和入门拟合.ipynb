{
 "cells": [
  {
   "cell_type": "code",
   "execution_count": 4,
   "id": "770e8aa8",
   "metadata": {},
   "outputs": [],
   "source": [
    "'''\n",
    "TensorFlow 在运行时，默认会占用所有 GPU 显存资源，这是非常不友好的行为，尤其\n",
    "是当计算机同时有多个用户或者程序在使用 GPU 资源时，占用所有 GPU 显存资源会使得\n",
    "其他程序无法运行。因此，一般推荐设置 TensorFlow 的显存占用方式为增长式占用模式，\n",
    "即根据实际模型大小申请显存资源，代码实现如下：\n",
    "'''\n",
    "# 设置 GPU 显存使用方式\n",
    "# 获取 GPU 设备列表\n",
    "import tensorflow as tf\n",
    "gpus = tf.config.experimental.list_physical_devices('GPU')\n",
    "if gpus:\n",
    "    try:\n",
    "    # 设置 GPU 为增长式占用\n",
    "        for gpu in gpus:\n",
    "            tf.config.experimental.set_memory_growth(gpu, True)\n",
    "    except RuntimeError as e:\n",
    "    # 打印异常\n",
    "        print(e)"
   ]
  },
  {
   "cell_type": "code",
   "execution_count": 25,
   "id": "d07eb527",
   "metadata": {},
   "outputs": [
    {
     "name": "stdout",
     "output_type": "stream",
     "text": [
      "0 Tensor(\"sub_5:0\", shape=(1, 100), dtype=float32) [[-0.18169951  0.60316783]] [0.48598415]\n",
      "20 Tensor(\"sub_6:0\", shape=(1, 100), dtype=float32) [[0.03119006 0.25705343]] [0.30455482]\n",
      "40 Tensor(\"sub_7:0\", shape=(1, 100), dtype=float32) [[0.08700248 0.21026349]] [0.30113634]\n",
      "60 Tensor(\"sub_8:0\", shape=(1, 100), dtype=float32) [[0.09751589 0.20181012]] [0.30029863]\n",
      "80 Tensor(\"sub_9:0\", shape=(1, 100), dtype=float32) [[0.09951667 0.20030804]] [0.30008185]\n",
      "100 Tensor(\"sub_10:0\", shape=(1, 100), dtype=float32) [[0.09990346 0.2000489 ]] [0.30002314]\n",
      "120 Tensor(\"sub_11:0\", shape=(1, 100), dtype=float32) [[0.09998001 0.2000066 ]] [0.3000067]\n",
      "140 Tensor(\"sub_12:0\", shape=(1, 100), dtype=float32) [[0.09999566 0.20000046]] [0.30000198]\n",
      "160 Tensor(\"sub_13:0\", shape=(1, 100), dtype=float32) [[0.09999899 0.19999985]] [0.3000006]\n",
      "180 Tensor(\"sub_14:0\", shape=(1, 100), dtype=float32) [[0.09999975 0.1999999 ]] [0.3000002]\n",
      "200 Tensor(\"sub_15:0\", shape=(1, 100), dtype=float32) [[0.09999992 0.19999996]] [0.30000007]\n"
     ]
    }
   ],
   "source": [
    "'''\n",
    "这段很短的 Python 程序生成了一些三维数据, 然后用一个平面拟合它.\n",
    "\n",
    "'''\n",
    "import tensorflow.compat.v1 as tf\n",
    "tf.disable_v2_behavior()\n",
    "import numpy as np\n",
    "\n",
    "# 使用 NumPy 生成假数据(phony data), 总共 100 个点.\n",
    "x_data = np.float32(np.random.rand(2, 100)) # 随机输入\n",
    "y_data = np.dot([0.100, 0.200], x_data) + 0.300\n",
    "\n",
    "# 构造一个线性模型\n",
    "# tensor\n",
    "b = tf.Variable(tf.zeros([1]))\n",
    "W = tf.Variable(tf.random.uniform([1, 2], -1.0, 1.0))\n",
    "y = tf.matmul(W, x_data) + b\n",
    "\n",
    "# 最小化方差\n",
    "loss = tf.reduce_mean(tf.square(y - y_data))\n",
    "optimizer = tf.train.GradientDescentOptimizer(0.5)\n",
    "train = optimizer.minimize(loss)\n",
    "\n",
    "# 初始化变量\n",
    "init = tf.initialize_all_variables()\n",
    "\n",
    "# 启动图 (graph)\n",
    "sess = tf.Session()\n",
    "sess.run(init)\n",
    "\n",
    "# 拟合平面\n",
    "for step in range(201):#训练200轮\n",
    "    sess.run(train)\n",
    "    if step % 20 == 0:\n",
    "        print (step, , sess.run(W), sess.run(b))\n",
    "\n",
    "# 得到最佳拟合结果 W: [[0.100  0.200]], b: [0.300]"
   ]
  }
 ],
 "metadata": {
  "kernelspec": {
   "display_name": "Python 3 (ipykernel)",
   "language": "python",
   "name": "python3"
  },
  "language_info": {
   "codemirror_mode": {
    "name": "ipython",
    "version": 3
   },
   "file_extension": ".py",
   "mimetype": "text/x-python",
   "name": "python",
   "nbconvert_exporter": "python",
   "pygments_lexer": "ipython3",
   "version": "3.8.12"
  },
  "toc": {
   "base_numbering": 1,
   "nav_menu": {},
   "number_sections": true,
   "sideBar": true,
   "skip_h1_title": false,
   "title_cell": "Table of Contents",
   "title_sidebar": "Contents",
   "toc_cell": false,
   "toc_position": {},
   "toc_section_display": true,
   "toc_window_display": false
  }
 },
 "nbformat": 4,
 "nbformat_minor": 5
}
