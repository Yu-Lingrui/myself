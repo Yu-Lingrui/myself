{
 "cells": [
  {
   "cell_type": "markdown",
   "id": "a83f3a9a",
   "metadata": {},
   "source": [
    "# 题目\n",
    "给你两个**非空**的链表，表示两个非负的整数。它们每位数字都是按照**逆序**的方式存储的，并且每个节点只能存储一位数字。\n",
    "\n",
    "请你将两个数相加，并以相同形式返回一个表示和的链表。\n",
    "\n",
    "你可以假设除了数字 0 之外，这两个数都不会以 0 开头。\n",
    "\n",
    " \n",
    "\n",
    "示例 1：\n",
    "\n",
    "\n",
    "输入：l1 = [2,4,3], l2 = [5,6,4]\n",
    "输出：[7,0,8]\n",
    "解释：342 + 465 = 807.\n",
    "示例 2：\n",
    "\n",
    "输入：l1 = [0], l2 = [0]\n",
    "输出：[0]\n",
    "示例 3：\n",
    "\n",
    "输入：l1 = [9,9,9,9,9,9,9], l2 = [9,9,9,9]\n",
    "输出：[8,9,9,9,0,0,0,1]\n",
    " \n",
    "\n",
    "提示：\n",
    "\n",
    "每个链表中的节点数在范围 [1, 100] 内\n",
    "0 <= Node.val <= 9\n",
    "题目数据保证列表表示的数字不含前导零"
   ]
  },
  {
   "cell_type": "markdown",
   "id": "ea0fe222",
   "metadata": {},
   "source": [
    "# 算法思想"
   ]
  },
  {
   "cell_type": "markdown",
   "id": "c7f0a192",
   "metadata": {},
   "source": [
    "<font color=red size=5> 核心：链表、循环 </font>   \n",
    "思路与算法：   \n",
    "由于输入的两个链表都是逆序存储数字的位数的，因此两个链表中同一位置的数字可以直接相加。\n",
    "\n",
    "我们同时遍历两个链表，逐位计算它们的和，并与当前位置的进位值相加。具体而言，如果当前两个链表处相应位置的数字为 n1,n2，进位值为 $\\textit{carry}$，则它们的和为 $n1+n2+\\textit{carry}$；其中，答案链表处相应位置的数字为$(n1+n2+carry)\\bmod{10}$，而新的进位值为 $\\lfloor\\frac{n1+n2+\\textit{carry}}{10}\\rfloor$。\n",
    "\n",
    "如果两个链表的长度不同，则可以认为长度短的链表的后面有若干个 0。\n",
    "\n",
    "此外，如果链表遍历结束后，有 $\\textit{carry} > 0$，还需要在答案链表的后面附加一个节点，节点的值为 $\\textit{carry}$。"
   ]
  },
  {
   "cell_type": "markdown",
   "id": "f3eaa1d6",
   "metadata": {},
   "source": [
    "# 代码实现"
   ]
  },
  {
   "cell_type": "code",
   "execution_count": null,
   "id": "b2cf74a9",
   "metadata": {},
   "outputs": [],
   "source": [
    "# leetcode提交\n",
    "class Solution:\n",
    "    def addTwoNumbers(self, l1: ListNode, l2: ListNode) -> ListNode:\n",
    "        head = curr = ListNode()\n",
    "        carry = val = 0\n",
    "\n",
    "        while carry or l1 or l2:\n",
    "            val = carry\n",
    "\n",
    "            if l1: l1, val = l1.next, l1.val + val\n",
    "            if l2: l2, val = l2.next, l2.val + val\n",
    "\n",
    "            carry, val = divmod(val, 10) # 取商和余数\n",
    "            curr.next = curr = ListNode(val) #curr.next  = ListNode(val) curr = curr.next\n",
    "            \n",
    "            if carry:  curr.next = ListNode(carry) #处理进位\n",
    "        \n",
    "        return head.next"
   ]
  }
 ],
 "metadata": {
  "kernelspec": {
   "display_name": "Python 3 (ipykernel)",
   "language": "python",
   "name": "python3"
  },
  "language_info": {
   "codemirror_mode": {
    "name": "ipython",
    "version": 3
   },
   "file_extension": ".py",
   "mimetype": "text/x-python",
   "name": "python",
   "nbconvert_exporter": "python",
   "pygments_lexer": "ipython3",
   "version": "3.9.7"
  },
  "toc": {
   "base_numbering": 1,
   "nav_menu": {},
   "number_sections": true,
   "sideBar": true,
   "skip_h1_title": false,
   "title_cell": "Table of Contents",
   "title_sidebar": "Contents",
   "toc_cell": false,
   "toc_position": {},
   "toc_section_display": true,
   "toc_window_display": false
  }
 },
 "nbformat": 4,
 "nbformat_minor": 5
}
