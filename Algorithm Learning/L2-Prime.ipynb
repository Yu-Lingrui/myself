{
 "cells": [
  {
   "cell_type": "markdown",
   "id": "8e1b46ba",
   "metadata": {},
   "source": [
    "# 题目"
   ]
  },
  {
   "cell_type": "markdown",
   "id": "5c418c77",
   "metadata": {},
   "source": [
    "对任意合数进行质因数分解"
   ]
  },
  {
   "cell_type": "markdown",
   "id": "af6a645c",
   "metadata": {},
   "source": [
    "# 算法思想"
   ]
  },
  {
   "cell_type": "markdown",
   "id": "c7f0a192",
   "metadata": {},
   "source": [
    "<font color=red size=5> 核心：循环嵌套、判断 </font>   \n",
    "步骤：   \n",
    "1）判断是不是合数    \n",
    "2）数字折半，加1;能除尽是质因数，记录在序列里，去掉记录的继续除\n",
    "\n",
    "数学公式，知识：   "
   ]
  },
  {
   "cell_type": "markdown",
   "id": "a8eb6ff4",
   "metadata": {},
   "source": [
    "# 代码实现"
   ]
  },
  {
   "cell_type": "code",
   "execution_count": 22,
   "id": "cae0015f",
   "metadata": {},
   "outputs": [
    {
     "name": "stdout",
     "output_type": "stream",
     "text": [
      "输入一个合数：7\n",
      "输入不是合数！\n"
     ]
    }
   ],
   "source": [
    "def Prime(x):\n",
    "    if x==1:\n",
    "        return print('1不是合数！')\n",
    "    i=2\n",
    "    while x%i!=0:\n",
    "        i+=1\n",
    "    if i==x:\n",
    "        return print('输入不是合数！')\n",
    "    else:\n",
    "        return print('输入是合数！')\n",
    "n1=int(input('输入一个合数：'))\n",
    "Prime(n1)"
   ]
  },
  {
   "cell_type": "markdown",
   "id": "3cee86d5",
   "metadata": {},
   "source": [
    "# 执行效率和占用内存\n",
    "%%timeit %time %%time"
   ]
  },
  {
   "cell_type": "markdown",
   "id": "4f7c924f",
   "metadata": {},
   "source": [
    "# 标准答案"
   ]
  },
  {
   "cell_type": "code",
   "execution_count": 19,
   "id": "62d80130",
   "metadata": {},
   "outputs": [
    {
     "name": "stdout",
     "output_type": "stream",
     "text": [
      "24质因数分解为：\n",
      "[2, 2, 2, 3]\n"
     ]
    }
   ],
   "source": [
    "def Prime(x):\n",
    "    solution=[]                 #记录求解结果\n",
    "    i=2\n",
    "    m=x//2+1                    #数字折半，加1\n",
    "    while i<m:\n",
    "        if x%i==0:              #能除尽的是质因数\n",
    "            solution.append(i)  #记录质因数\n",
    "            x=x//i              #x里去掉记录的质因数\n",
    "            i=2\n",
    "        else:\n",
    "            i+=1\n",
    "    return solution\n",
    "m=24\n",
    "v=Prime(m)\n",
    "if len(v)<1:\n",
    "    print('%d不能分解：'%(m))\n",
    "else:\n",
    "    print('%d质因数分解为：'%(m))\n",
    "    print(v)"
   ]
  }
 ],
 "metadata": {
  "kernelspec": {
   "display_name": "Python 3 (ipykernel)",
   "language": "python",
   "name": "python3"
  },
  "language_info": {
   "codemirror_mode": {
    "name": "ipython",
    "version": 3
   },
   "file_extension": ".py",
   "mimetype": "text/x-python",
   "name": "python",
   "nbconvert_exporter": "python",
   "pygments_lexer": "ipython3",
   "version": "3.9.7"
  },
  "toc": {
   "base_numbering": 1,
   "nav_menu": {},
   "number_sections": true,
   "sideBar": true,
   "skip_h1_title": false,
   "title_cell": "Table of Contents",
   "title_sidebar": "Contents",
   "toc_cell": false,
   "toc_position": {},
   "toc_section_display": true,
   "toc_window_display": false
  }
 },
 "nbformat": 4,
 "nbformat_minor": 5
}
