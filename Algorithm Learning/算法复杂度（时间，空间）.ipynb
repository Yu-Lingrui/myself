{
 "cells": [
  {
   "cell_type": "markdown",
   "id": "259c7acf",
   "metadata": {},
   "source": [
    "# 算法的效率"
   ]
  },
  {
   "cell_type": "markdown",
   "id": "a56ea157",
   "metadata": {},
   "source": [
    "虽然计算机能快速的完成运算处理，但实际上，它也需要根据输入数据的大小和算法效率来消耗一定的处理器资源。要想编写出能高效运行的程序，我们就需要考虑到算法的效率。<br>\n",
    "算法的效率主要由以下两个复杂度来评估：<br>\n",
    "时间复杂度：评估执行程序所需的时间。可以估算出程序对处理器的使用程度。<br>\n",
    "空间复杂度：评估执行程序所需的存储空间。可以估算出程序对计算机内存的使用程度。<br>\n",
    "\n",
    "设计算法时，一般是要先考虑系统环境，然后权衡时间复杂度和空间复杂度，选取一个平衡点。不过，时间复杂度要比空间复杂度更容易产生问题，因此算法研究的主要也是时间复杂度，不特别说明的情况下，复杂度就是指时间复杂度。"
   ]
  },
  {
   "cell_type": "markdown",
   "id": "81efe2b3",
   "metadata": {},
   "source": [
    "# 时间复杂度"
   ]
  },
  {
   "cell_type": "markdown",
   "id": "85a07e71",
   "metadata": {},
   "source": [
    "时间频度<br>\n",
    "一个算法执行所耗费的时间，从理论上是不能算出来的，必须上机运行测试才能知道。但我们不可能也没有必要对每个算法都上机测试，只需知道哪个算法花费的时间多，哪个算法花费的时间少就可以了。并且一个算法花费的时间与算法中语句的执行次数成正比例，哪个算法中语句执行次数多，它花费时间就多。一个算法中的语句执行次数称为语句频度或时间频度。记为T(n)。\n",
    "\n",
    "时间复杂度<br>\n",
    "前面提到的时间频度T(n)中，n称为问题的规模，当n不断变化时，时间频度T(n)也会不断变化。但有时我们想知道它变化时呈现什么规律，为此我们引入时间复杂度的概念。一般情况下，算法中基本操作重复执行的次数是问题规模n的某个函数，用T(n)表示，若有某个辅助函数f(n)，使得当n趋近于无穷大时，T（n)/f(n)的极限值为不等于零的常数，则称f(n)是T(n)的同数量级函数，记作T(n)=O(f(n))，它称为算法的渐进时间复杂度，简称时间复杂度。"
   ]
  },
  {
   "cell_type": "markdown",
   "id": "0225e7a6",
   "metadata": {},
   "source": [
    "# 大O表示法   \n",
    "嵌套循环无算法遍历比较次数如：n*n；算法数学公式max表达式阶数   "
   ]
  },
  {
   "cell_type": "markdown",
   "id": "2437c8ad",
   "metadata": {},
   "source": [
    "像前面用O( )来体现算法时间复杂度的记法，我们称之为大O表示法。<br>\n",
    "算法复杂度可以从最理想情况、平均情况和最坏情况三个角度来评估，由于平均情况大多和最坏情况持平，而且评估最坏情况也可以避免后顾之忧，因此一般情况下，我们设计算法时都要直接估算最坏情况的复杂度。<br>\n",
    "大O表示法O(f(n)中的f(n)的值可以为1、n、logn、n²等，因此我们可以将O(1)、O(n)、O(logn)、O(n²)分别可以称为常数阶、线性阶、对数阶和平方阶，那么如何推导出f(n)的值呢？我们接着来看推导大O阶的方法。<br>\n",
    "\n",
    "推导大O阶<br>\n",
    "推导大O阶，我们可以按照如下的规则来进行推导，得到的结果就是大O表示法：<br>\n",
    "1.用常数1来取代运行时间中所有加法常数。<br>\n",
    "2.修改后的运行次数函数中，只保留最高阶项<br>\n",
    "3.如果最高阶项存在且不是1，则去除与这个项相乘的常数。<br>\n",
    "\n",
    "常数阶<br>\n",
    "先举了例子，如下所示。"
   ]
  },
  {
   "cell_type": "markdown",
   "id": "8465a681",
   "metadata": {},
   "source": [
    "  int sum = 0,n = 100; //执行一次  \n",
    "  sum = (1+n)*n/2; //执行一次  \n",
    "  System.out.println (sum); //执行一次 "
   ]
  },
  {
   "cell_type": "markdown",
   "id": "7265f11c",
   "metadata": {},
   "source": [
    "上面算法的运行的次数的函数为f(n)=3，根据推导大O阶的规则1，我们需要将常数3改为1，则这个算法的时间复杂度为O(1)。     \n",
    "如果sum = （1+n）*n/2这条语句再执行10遍，因为这与问题大小n的值并没有关系，所以这个算法的时间复杂度仍旧是O(1)，我们可以称之为常数阶。"
   ]
  },
  {
   "cell_type": "markdown",
   "id": "6759e067",
   "metadata": {},
   "source": [
    "线性阶\n",
    "线性阶主要要分析循环结构的运行情况，如下所示。\n",
    "\n",
    "for(int i=0;i<n;i++){\n",
    "//时间复杂度为O(1)的算法\n",
    "...\n",
    "}\n",
    "1\n",
    "2\n",
    "3\n",
    "4\n",
    "上面算法循环体中的代码执行了n次，因此时间复杂度为O(n)。\n",
    "\n",
    "对数阶\n",
    "接着看如下代码：\n",
    "\n",
    "int number=1;\n",
    "while(number<n){\n",
    "number=number*2;\n",
    "//时间复杂度为O(1)的算法\n",
    "...\n",
    "}\n",
    "1\n",
    "2\n",
    "3\n",
    "4\n",
    "5\n",
    "6\n",
    "可以看出上面的代码，随着number每次乘以2后，都会越来越接近n，当number不小于n时就会退出循环。假设循环的次数为X，则由2^x=n得出x=log₂n，因此得出这个算法的时间复杂度为O(logn)。\n",
    "\n",
    "平方阶\n",
    "下面的代码是循环嵌套：\n",
    "\n",
    "  for(int i=0;i<n;i++){   \n",
    "      for(int j=0;j<n;i++){\n",
    "         //复杂度为O(1)的算法\n",
    "         ... \n",
    "      }\n",
    "  }\n",
    "1\n",
    "2\n",
    "3\n",
    "4\n",
    "5\n",
    "6\n",
    "内层循环的时间复杂度在讲到线性阶时就已经得知是O(n)，现在经过外层循环n次，那么这段算法的时间复杂度则为O(n²)。\n",
    "接下来我们来算一下下面算法的时间复杂度：\n",
    "\n",
    "  for(int i=0;i<n;i++){   \n",
    "      for(int j=i;j<n;i++){\n",
    "         //复杂度为O(1)的算法\n",
    "         ... \n",
    "      }\n",
    "  }\n",
    "1\n",
    "2\n",
    "3\n",
    "4\n",
    "5\n",
    "6\n",
    "需要注意的是内循环中int j=i，而不是int j=0。当i=0时，内循环执行了n次；i=1时内循环执行了n-1次，当i=n-1时执行了1次，我们可以推算出总的执行次数为：\n",
    "\n",
    "n+(n-1)+(n-2)+(n-3)+……+1\n",
    "=(n+1)+[(n-1)+2]+[(n-2)+3]+[(n-3)+4]+……\n",
    "=(n+1)+(n+1)+(n+1)+(n+1)+……\n",
    "=(n+1)n/2\n",
    "=n(n+1)/2\n",
    "=n²/2+n/2\n",
    "\n",
    "根据此前讲过的推导大O阶的规则的第二条：只保留最高阶，因此保留n²/2。根据第三条去掉和这个项的常数，则去掉1/2,最终这段代码的时间复杂度为O(n²)。\n",
    "\n",
    "其他常见复杂度\n",
    "\n",
    "除了常数阶、线性阶、平方阶、对数阶，还有如下时间复杂度：\n",
    "f(n)=nlogn时，时间复杂度为O(nlogn)，可以称为nlogn阶。\n",
    "f(n)=n³时，时间复杂度为O(n³)，可以称为立方阶。\n",
    "f(n)=2ⁿ时，时间复杂度为O(2ⁿ)，可以称为指数阶。\n",
    "f(n)=n!时，时间复杂度为O(n!)，可以称为阶乘阶。\n",
    "f(n)=(√n时，时间复杂度为O(√n)，可以称为平方根阶。"
   ]
  },
  {
   "cell_type": "markdown",
   "id": "3b487a04",
   "metadata": {},
   "source": [
    "# 复杂度的比较"
   ]
  },
  {
   "cell_type": "markdown",
   "id": "d97b43aa",
   "metadata": {},
   "source": [
    "O(1)<O(logn)<O(n)<O(nlogn)<O(n²)<O(n³)<O(2ⁿ)<O(n!)"
   ]
  },
  {
   "attachments": {
    "image.png": {
     "image/png": "[encoded data removed]"
    }
   },
   "cell_type": "markdown",
   "id": "3272bd97",
   "metadata": {},
   "source": [
    "![image.png](attachment:image.png)"
   ]
  },
  {
   "cell_type": "markdown",
   "id": "38e2bb0f",
   "metadata": {},
   "source": [
    "其中x轴代表n值，y轴代表T(n)值（时间复杂度）。T(n)值随着n的值的变化而变化，其中可以看出O(n!)和O(2ⁿ)随着n值的增大，它们的T(n)值上升幅度非常大，而O(logn)、O(n)、O(nlogn)随着n值的增大，T(n)值上升幅度则很小。"
   ]
  }
 ],
 "metadata": {
  "kernelspec": {
   "display_name": "Python 3 (ipykernel)",
   "language": "python",
   "name": "python3"
  },
  "language_info": {
   "codemirror_mode": {
    "name": "ipython",
    "version": 3
   },
   "file_extension": ".py",
   "mimetype": "text/x-python",
   "name": "python",
   "nbconvert_exporter": "python",
   "pygments_lexer": "ipython3",
   "version": "3.8.8"
  },
  "toc": {
   "base_numbering": 1,
   "nav_menu": {},
   "number_sections": true,
   "sideBar": true,
   "skip_h1_title": false,
   "title_cell": "Table of Contents",
   "title_sidebar": "Contents",
   "toc_cell": false,
   "toc_position": {},
   "toc_section_display": true,
   "toc_window_display": false
  }
 },
 "nbformat": 4,
 "nbformat_minor": 5
}
