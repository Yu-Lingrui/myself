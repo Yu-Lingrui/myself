{
 "cells": [
  {
   "cell_type": "code",
   "execution_count": null,
   "id": "63cb9e46",
   "metadata": {},
   "outputs": [],
   "source": [
    "\"\"\"\n",
    "    Created on Mon Dec  2 19:53:25 2021\n",
    "       构建链表，访问链表值，打印节点个数及节点值\n",
    "    @author:余\n",
    "\"\"\"\n",
    "class Node(): #定义节点类\n",
    "    def __init__(self,data=None,next=None): #初始化类\n",
    "        self._data=data\n",
    "        self._next=next\n",
    "    def setData(self,NewData):         #设置节点的数值\n",
    "        self._data=NewData\n",
    "    def setNext(self,NewNext):         #设置节点的下一个地址\n",
    "        self._next=NewNext\n",
    "    def getData(self):                 #得到节点的数值\n",
    "        return self._data\n",
    "    def getNext(self):                 #得到节点的下一个地址\n",
    "        return self._next\n",
    "\n",
    "class LinkedList():                      #建立链表类\n",
    "    def __init__(self):                  #初始化类\n",
    "        self._head=Node()                #链表头\n",
    "        self._length=0                   #链表长度\n",
    "    def tail_add(self,NewData):          #在链表尾部增加节点\n",
    "        NewNode=Node(NewData,None)       #新增一个节点\n",
    "        if self._length==0:              #空链表\n",
    "            self._head=NewNode           #把新增节点对象赋值给head\n",
    "            self._length=1               #链表长度变1\n",
    "        else:\n",
    "            current=self._head\n",
    "            while current.getNext()!=None:#判断下一个地址是否None\n",
    "                current=current.getNext() #根据地址next遍历链表\n",
    "            current.setNext(NewNode)      #找到链尾，增加新节点\n",
    "            self._length+=1               #链表数量加一\n",
    "    def PrintLinkedList(self):           #遍历并打印节点数值\n",
    "        curr=self._head\n",
    "        while curr!=None:                #判断下一个地址是否None\n",
    "            print('打印节点：%s'%(curr.getData()))\n",
    "            curr=curr.getNext()\n",
    "    def getLength(self):\n",
    "        return self._length\n",
    "#==================================调用链表类实例，并打印结果\n",
    "foods=['apple','water','juice','tomato']\n",
    "newLinked=LinkedList()             #建立链表实例\n",
    "for s in foods:\n",
    "    newLinked.tail_add(s)          #增加节点，并给每个节点赋值\n",
    "print(newLinked.getLength())       #打印链表节点数\n",
    "newLinked.PrintLinkedList()        #打印所有的节点的值"
   ]
  }
 ],
 "metadata": {
  "kernelspec": {
   "display_name": "Python 3 (ipykernel)",
   "language": "python",
   "name": "python3"
  },
  "language_info": {
   "codemirror_mode": {
    "name": "ipython",
    "version": 3
   },
   "file_extension": ".py",
   "mimetype": "text/x-python",
   "name": "python",
   "nbconvert_exporter": "python",
   "pygments_lexer": "ipython3",
   "version": "3.8.8"
  },
  "toc": {
   "base_numbering": 1,
   "nav_menu": {},
   "number_sections": true,
   "sideBar": true,
   "skip_h1_title": false,
   "title_cell": "Table of Contents",
   "title_sidebar": "Contents",
   "toc_cell": false,
   "toc_position": {},
   "toc_section_display": true,
   "toc_window_display": false
  }
 },
 "nbformat": 4,
 "nbformat_minor": 5
}
