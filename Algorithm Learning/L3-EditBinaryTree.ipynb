{
 "cells": [
  {
   "cell_type": "markdown",
   "id": "eebcda85",
   "metadata": {},
   "source": [
    "# 题目\n",
    "经典二叉树（分层）任意修改一个指定的节点值  \n",
    "删除任意一个叶子节点"
   ]
  },
  {
   "cell_type": "markdown",
   "id": "b4e80e64",
   "metadata": {},
   "source": [
    "# 算法思想\n",
    "基本原理：详见二叉树.ipynb     \n",
    "修改指定节点：遍历找到指定值修改    \n",
    "删除指定节点：遍历找到叶子节点删除:None（一般只能删除叶子节点，删除非叶子节点会删除余下所有子节点）"
   ]
  },
  {
   "cell_type": "markdown",
   "id": "a8eb6ff4",
   "metadata": {},
   "source": [
    "# 代码实现"
   ]
  },
  {
   "cell_type": "code",
   "execution_count": 4,
   "id": "3bcfad8d",
   "metadata": {},
   "outputs": [
    {
     "name": "stdout",
     "output_type": "stream",
     "text": [
      "入节点数20\n",
      "入节点数30\n",
      "入节点数40\n",
      "入节点数50\n",
      "入节点数60\n",
      "入节点数70\n",
      "入节点数80\n"
     ]
    }
   ],
   "source": [
    "import numpy as np\n",
    "class Node():                           #定义节点类\n",
    "    def __init__(self,data=''):\n",
    "        self.data=data                  #节点数值\n",
    "        self.left=None                  #左子节点\n",
    "        self.right=None                 #右子节点\n",
    "    def __str__(self):                  #隐性读取当前节点方法  __str__:内置变量，初始化自动返回指定字符串值\n",
    "        return str(self.data)           #返回当前节点值\n",
    "\n",
    "class BuildTree():           \n",
    "    def __init__(self,firstData):\n",
    "        self.rootNode=Node(firstData)   #树的根节点,默认数据值为空\n",
    "    def addNodes(self,NewDatas): #有序树增加节点,NewDatas为列表，前提要求数据已经排序\n",
    "        Datalength=len(NewDatas)+1      #1为根节点\n",
    "        depth=np.floor(np.log2(Datalength))+1  #求树的深度\n",
    "        i=2\n",
    "        stock=[self.rootNode]           #记录根节点地址\n",
    "        while i<=depth:                 #处理每层树的节点\n",
    "            currNN=2**(i-1)             #当前层最大节点数\n",
    "            j=0\n",
    "            while j<currNN:             #对当前层次的增加节点，直到加满\n",
    "               curr=stock[0]            #获取当前父节点地址(获取节点地址就是获取节点：curr=rootNode=Node(data))\n",
    "               j+=1\n",
    "               if NewDatas:             #列表不为空时，弹出左边的元素\n",
    "                   data=NewDatas.pop(0) #在列表里删除进入新节点的元素\n",
    "               else:\n",
    "                   break;               #最后一层节点必须考虑列表提供值不是满节点的情况\n",
    "               Node1=Node(data)         #生成新节点\n",
    "               print('入节点数%d'%(data))\n",
    "               if j%2==0:               #j=1增加左节点，j=2增加右节点\n",
    "                  curr.right=Node1      #当前节点增加右子节点\n",
    "                  stock.pop(0)         #去掉最前面的节点地址\n",
    "                  stock.append(Node1)  #存储右节点地址\n",
    "               else:\n",
    "                  curr.left=Node1      #当前节点增加左子节点\n",
    "                  stock.append(Node1)  #存储左节点地址（分层遍历不删除左节点地址，弹出上层父节点后下一层成为新的父节点！）\n",
    "            i+=1                       #树层加1      \n",
    "line1=[1,20,30,40,50,60,70,80]         #节点的数值\n",
    "B1=BuildTree(line1[0])                 #建立带根节点的二叉树实例\n",
    "B1.addNodes(line1[1:])                 #从第2节点开始构建树"
   ]
  },
  {
   "cell_type": "markdown",
   "id": "4f7c924f",
   "metadata": {},
   "source": [
    "# 标准答案"
   ]
  },
  {
   "cell_type": "code",
   "execution_count": 2,
   "id": "ba53f6bf",
   "metadata": {},
   "outputs": [
    {
     "name": "stdout",
     "output_type": "stream",
     "text": [
      "[1, 20, 45, 80, 50, 30, 60, 70]\n"
     ]
    }
   ],
   "source": [
    "#===================================\n",
    "def edit(root,find,New):               #先序遍历，递归遍历\n",
    "    p1=[]\n",
    "    if root:                           #非空节点\n",
    "        if root.data==find:\n",
    "            root.data=New              #修改为新的值\n",
    "        p1.append(root.data)\n",
    "        p1+= edit(root.left,find,New)  #递归调用左节点\n",
    "        p1+= edit(root.right,find,New) #递归调用右节点\n",
    "    return p1                          #返回列表\n",
    "L1=edit(B1.rootNode,40,45)\n",
    "print(L1)"
   ]
  },
  {
   "cell_type": "code",
   "execution_count": 11,
   "id": "0c76c924",
   "metadata": {},
   "outputs": [
    {
     "name": "stdout",
     "output_type": "stream",
     "text": [
      "[1, 20, 40, 50, 30, 60, 70]\n"
     ]
    }
   ],
   "source": [
    "#===================================\n",
    "def DelLeaf(root,find):               #先序遍历，递归遍历\n",
    "    p1=[]\n",
    "    if root:                           #非空节点\n",
    "        if root.data==find and root.left==None and root.right==None: #（确保删除节点为叶子节点）\n",
    "            root=None              #设置为None，代表删除该节点\n",
    "        else:\n",
    "            p1.append(root.data)\n",
    "            p1+= DelLeaf(root.left,find)  #递归调用左节点\n",
    "            p1+= DelLeaf(root.right,find) #递归调用右节点\n",
    "    return p1                          #返回列表\n",
    "L1=DelLeaf(B1.rootNode,80)\n",
    "print(L1)"
   ]
  }
 ],
 "metadata": {
  "kernelspec": {
   "display_name": "Python 3 (ipykernel)",
   "language": "python",
   "name": "python3"
  },
  "language_info": {
   "codemirror_mode": {
    "name": "ipython",
    "version": 3
   },
   "file_extension": ".py",
   "mimetype": "text/x-python",
   "name": "python",
   "nbconvert_exporter": "python",
   "pygments_lexer": "ipython3",
   "version": "3.8.8"
  },
  "toc": {
   "base_numbering": 1,
   "nav_menu": {},
   "number_sections": true,
   "sideBar": true,
   "skip_h1_title": false,
   "title_cell": "Table of Contents",
   "title_sidebar": "Contents",
   "toc_cell": false,
   "toc_position": {},
   "toc_section_display": true,
   "toc_window_display": false
  }
 },
 "nbformat": 4,
 "nbformat_minor": 5
}
