{
 "cells": [
  {
   "cell_type": "markdown",
   "id": "16551125",
   "metadata": {},
   "source": [
    "# 构建简单的树"
   ]
  },
  {
   "cell_type": "code",
   "execution_count": 2,
   "id": "3e833258",
   "metadata": {},
   "outputs": [],
   "source": [
    "class TreeNode:\n",
    "     def __init__(self, x):\n",
    "         self.val = x       #数值\n",
    "         self.left = None   #左右子节点地址\n",
    "         self.right = None\n",
    " \n",
    "a = TreeNode(1)\n",
    "b = TreeNode(2)\n",
    "c = TreeNode(3)\n",
    "d = TreeNode(4)\n",
    "e = TreeNode(5)\n",
    "f = TreeNode(6)\n",
    "g = TreeNode(7)\n",
    " \n",
    "a.left = b\n",
    "a.right = c\n",
    "b.left = d\n",
    "b.right = e\n",
    "c.left = f\n",
    "c.right = g"
   ]
  },
  {
   "attachments": {
    "image.png": {
     "image/png": "[encoded data removed]"
    }
   },
   "cell_type": "markdown",
   "id": "030fb951",
   "metadata": {},
   "source": [
    "一颗基础的树：\n",
    "![image.png](attachment:image.png)"
   ]
  },
  {
   "cell_type": "markdown",
   "id": "7202a907",
   "metadata": {},
   "source": [
    "# 构建经典二叉树（分层遍历）\n",
    "直接读取类名为地址   \n",
    "三因素：节点（地址），节点数值，节点地址"
   ]
  },
  {
   "cell_type": "code",
   "execution_count": 1,
   "id": "8b8ab273",
   "metadata": {},
   "outputs": [
    {
     "name": "stdout",
     "output_type": "stream",
     "text": [
      "入节点数20\n",
      "入节点数30\n",
      "入节点数40\n",
      "入节点数50\n",
      "入节点数60\n",
      "入节点数70\n",
      "入节点数80\n"
     ]
    }
   ],
   "source": [
    "import numpy as np\n",
    "class Node():                           #定义节点类\n",
    "    def __init__(self,data=''):\n",
    "        self.data=data                  #节点数值\n",
    "        self.left=None                  #左子节点\n",
    "        self.right=None                 #右子节点\n",
    "    def __str__(self):                  #隐性读取当前节点方法\n",
    "        return str(self.data)           #返回当前节点值\n",
    "\n",
    "class BuildTree():           \n",
    "    def __init__(self,firstData):\n",
    "        self.rootNode=Node(firstData)   #树的根节点,默认数据值为空\n",
    "    def addNodes(self,NewDatas): #有序树增加节点,NewDatas为列表，前提要求数据已经排序\n",
    "        Datalength=len(NewDatas)+1      #1为根节点\n",
    "        depth=np.floor(np.log2(Datalength))+1  #求树的深度\n",
    "        i=2\n",
    "        stock=[self.rootNode]           #记录根节点地址\n",
    "        while i<=depth:                 #处理每层树的节点\n",
    "            currNN=2**(i-1)             #当前层最大节点数\n",
    "            j=0\n",
    "            while j<currNN:             #对当前层次的增加节点，直到加满\n",
    "               curr=stock[0]            #获取当前节点地址\n",
    "               j+=1\n",
    "               if NewDatas:             #列表不为空时，弹出左边的元素\n",
    "                   data=NewDatas.pop(0) #在列表里删除进入新节点的元素\n",
    "               else:\n",
    "                   break;               #最后一层节点必须考虑列表提供值不是满节点的情况\n",
    "               Node1=Node(data)         #生成新节点\n",
    "               print('入节点数%d'%(data))\n",
    "               if j%2==0:               #j=1增加左节点，j=2增加右节点\n",
    "                  curr.right=Node1      #当前节点增加右子节点\n",
    "                  stock.pop(0)         #去掉最前面的节点地址\n",
    "                  stock.append(Node1)  #最右右节点地址\n",
    "               else:\n",
    "                  curr.left=Node1      #当前节点增加左子节点\n",
    "                  stock.append(Node1)  #最右左节点地址\n",
    "            i+=1                       #树层加1\n",
    "line1=[1,20,30,40,50,60,70,80]         #节点的数值\n",
    "B1=BuildTree(line1[0])                 #建立带根节点的二叉树实例\n",
    "B1.addNodes(line1[1:])                 #从第2节点开始构建树"
   ]
  },
  {
   "cell_type": "markdown",
   "id": "29dcc746",
   "metadata": {},
   "source": [
    "# 先序遍历，递归遍历\n",
    "注意递归：每层递归函数后面的程序会在嵌套子递归完成后再依次执行"
   ]
  },
  {
   "cell_type": "code",
   "execution_count": 2,
   "id": "27f70fc8",
   "metadata": {},
   "outputs": [
    {
     "name": "stdout",
     "output_type": "stream",
     "text": [
      "[1, 20, 40, 80, 50, 30, 60, 70]\n"
     ]
    }
   ],
   "source": [
    "def preoder(root):                     #先序遍历，递归遍历（根左右）\n",
    "    p1=[]\n",
    "    if root:                           #非空节点\n",
    "        p1.append(root.data)           #每次储存当前节点数值[root.data]\n",
    "        p1+= preoder(root.left)        #递归调用左节点（递归子层结束依次返回在p1中递+[1 20 40 80 50]）\n",
    "        p1+= preoder(root.right)       #递归调用右节点[1 20 40 80 50 30 60 70]\n",
    "    return p1                          #返回列表\n",
    "L1=preoder(B1.rootNode)\n",
    "print(L1)"
   ]
  },
  {
   "cell_type": "markdown",
   "id": "3ca0b976",
   "metadata": {},
   "source": [
    "# 中序遍历，递归遍历"
   ]
  },
  {
   "cell_type": "code",
   "execution_count": 3,
   "id": "6b5fa630",
   "metadata": {},
   "outputs": [
    {
     "name": "stdout",
     "output_type": "stream",
     "text": [
      "[80, 40, 20, 50, 1, 60, 30, 70]\n"
     ]
    }
   ],
   "source": [
    "def middle(root):                     #中序遍历，递归遍历（左根右）\n",
    "    p1=[]\n",
    "    if root:                           #非空节点 \n",
    "        p1+= middle(root.left)        #递归调用左节点\n",
    "        p1.append(root.data)\n",
    "        p1+= middle(root.right)       #递归调用右节点\n",
    "    return p1                          #返回列表\n",
    "L1=middle(B1.rootNode)\n",
    "print(L1)"
   ]
  },
  {
   "cell_type": "markdown",
   "id": "713af4a3",
   "metadata": {},
   "source": [
    "# 后序遍历，递归遍历"
   ]
  },
  {
   "cell_type": "code",
   "execution_count": 4,
   "id": "16594666",
   "metadata": {},
   "outputs": [
    {
     "name": "stdout",
     "output_type": "stream",
     "text": [
      "[80, 40, 50, 20, 60, 70, 30, 1]\n"
     ]
    }
   ],
   "source": [
    "def post(root):                     #后序遍历，递归遍历（左右根）\n",
    "    p1=[]\n",
    "    if root:                           #非空节点 \n",
    "        p1+= post(root.left)        #递归调用左节点\n",
    "        p1+= post(root.right)       #递归调用右节点\n",
    "        p1.append(root.data)\n",
    "    return p1                          #返回列表\n",
    "L1=post(B1.rootNode)\n",
    "print(L1)"
   ]
  },
  {
   "cell_type": "markdown",
   "id": "776813fe",
   "metadata": {},
   "source": [
    "# 分层遍历，递归遍历"
   ]
  },
  {
   "cell_type": "code",
   "execution_count": 6,
   "id": "c2d1b420",
   "metadata": {},
   "outputs": [
    {
     "name": "stdout",
     "output_type": "stream",
     "text": [
      "[1, 20, 30, 40, 50, 60, 70, 80]\n"
     ]
    }
   ],
   "source": [
    "def level(root):                   #分层遍历，递归遍历\n",
    "    q1=[root.data,root.left, root.right]#存放数据，左右节点地址\n",
    "    p1=[]                               #记录节点的数值\n",
    "    while q1:\n",
    "        em= q1.pop(0)                   #从列表跳出一个元素\n",
    "        if em:\n",
    "            if isinstance(em,Node):       #判断元素是节点地址\n",
    "                q1.append(em.data)        #把节点里的数值放入列表\n",
    "                q1.append(em.left)        #把节点里的左子节点地址放入列表\n",
    "                q1.append(em.right)       #把节点里的右子节点地址放入列表\n",
    "            else:\n",
    "                p1.append(em)            #把节点数据放入列表\n",
    "    return p1\n",
    "L1=level(B1.rootNode)\n",
    "print(L1)"
   ]
  }
 ],
 "metadata": {
  "kernelspec": {
   "display_name": "Python 3 (ipykernel)",
   "language": "python",
   "name": "python3"
  },
  "language_info": {
   "codemirror_mode": {
    "name": "ipython",
    "version": 3
   },
   "file_extension": ".py",
   "mimetype": "text/x-python",
   "name": "python",
   "nbconvert_exporter": "python",
   "pygments_lexer": "ipython3",
   "version": "3.8.8"
  },
  "toc": {
   "base_numbering": 1,
   "nav_menu": {},
   "number_sections": true,
   "sideBar": true,
   "skip_h1_title": false,
   "title_cell": "Table of Contents",
   "title_sidebar": "Contents",
   "toc_cell": false,
   "toc_position": {},
   "toc_section_display": true,
   "toc_window_display": false
  }
 },
 "nbformat": 4,
 "nbformat_minor": 5
}
