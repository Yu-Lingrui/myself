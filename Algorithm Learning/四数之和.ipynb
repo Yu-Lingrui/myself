{
 "cells": [
  {
   "cell_type": "code",
   "execution_count": 5,
   "id": "d97ad96f",
   "metadata": {},
   "outputs": [
    {
     "name": "stdout",
     "output_type": "stream",
     "text": [
      "[[-3, -2, 2, 3], [-3, -1, 1, 3], [-3, 0, 0, 3], [-3, 0, 1, 2], [-2, -1, 0, 3], [-2, -1, 1, 2], [-2, 0, 0, 2], [-1, 0, 0, 1]]\n"
     ]
    }
   ],
   "source": [
    "#四数之和\n",
    "#双指针（冒泡）：四嵌套循环\n",
    "def foursum(nums,target):\n",
    "    nums.sort()\n",
    "    result=[]\n",
    "    N=len(nums)\n",
    "    i=0\n",
    "    while i<N-3:        #i,j为1指针\n",
    "        if i>0 and nums[i]==nums[i-1]: #执行一次后，第一个=最后一个，即所有元素都一样,返回空或4个一样元素数组\n",
    "            i+=1\n",
    "            continue\n",
    "        j=i+1\n",
    "        while j<N-2:\n",
    "            if j>i+1 and nums[j]==nums[j-1]: #缩小范围同上面\n",
    "                j+=1\n",
    "                continue\n",
    "            k=j+1\n",
    "            l=N-1\n",
    "            while k<l:      #k,l为2指针\n",
    "                if k>j+1 and nums[k]==nums[k-1]: #缩小范围同上面\n",
    "                    k+=1\n",
    "                    continue\n",
    "                while k<l and (target-nums[i]-nums[j]-nums[k]-nums[l]<0):#<0:排序是重小到大,继续缩小搜索\n",
    "                    l-=1\n",
    "                if k>=l: #搜索完了退出当前循环\n",
    "                    break\n",
    "                if target==nums[i]+nums[j]+nums[k]+nums[l]:\n",
    "                        result.append([nums[i],\n",
    "                                      nums[j],\n",
    "                                      nums[k],\n",
    "                                      nums[l]])\n",
    "                k+=1\n",
    "            j+=1\n",
    "        i+=1\n",
    "    return result\n",
    "print(foursum(nums=[1,0,-1,0,-2,2,3,-3],target=0))                    "
   ]
  }
 ],
 "metadata": {
  "kernelspec": {
   "display_name": "Python 3 (ipykernel)",
   "language": "python",
   "name": "python3"
  },
  "language_info": {
   "codemirror_mode": {
    "name": "ipython",
    "version": 3
   },
   "file_extension": ".py",
   "mimetype": "text/x-python",
   "name": "python",
   "nbconvert_exporter": "python",
   "pygments_lexer": "ipython3",
   "version": "3.8.8"
  },
  "toc": {
   "base_numbering": 1,
   "nav_menu": {},
   "number_sections": true,
   "sideBar": true,
   "skip_h1_title": false,
   "title_cell": "Table of Contents",
   "title_sidebar": "Contents",
   "toc_cell": false,
   "toc_position": {},
   "toc_section_display": true,
   "toc_window_display": false
  },
  "widgets": {
   "application/vnd.jupyter.widget-state+json": {
    "state": {},
    "version_major": 2,
    "version_minor": 0
   }
  }
 },
 "nbformat": 4,
 "nbformat_minor": 5
}
