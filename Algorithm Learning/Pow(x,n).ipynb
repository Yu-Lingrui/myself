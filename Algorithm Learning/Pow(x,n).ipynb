{
 "cells": [
  {
   "cell_type": "markdown",
   "id": "8e1b46ba",
   "metadata": {},
   "source": [
    "# 题目"
   ]
  },
  {
   "cell_type": "markdown",
   "id": "2bb7eec5",
   "metadata": {},
   "source": [
    "实现pow(x,n)"
   ]
  },
  {
   "cell_type": "markdown",
   "id": "e883f236",
   "metadata": {},
   "source": [
    "# 算法思想"
   ]
  },
  {
   "cell_type": "markdown",
   "id": "db408838",
   "metadata": {},
   "source": [
    "<font color=red size=5> 核心：二进制移位，递归 </font>    \n",
    "步骤：    \n",
    "1）递归思想1~10：由1，2，4，8组成。如：$10=2+8=2^1+2^3$    \n",
    "2）二进制移位与1：次数对应2的幂方次数    \n",
    "3）x进行递归：$x^{10}=x^2*x^8$"
   ]
  },
  {
   "cell_type": "markdown",
   "id": "a8eb6ff4",
   "metadata": {},
   "source": [
    "# 代码实现"
   ]
  },
  {
   "cell_type": "code",
   "execution_count": 13,
   "id": "c22cd3fd",
   "metadata": {},
   "outputs": [
    {
     "name": "stdout",
     "output_type": "stream",
     "text": [
      "0.25\n"
     ]
    }
   ],
   "source": [
    "class Solution:\n",
    "    def mypow(self,x,n):\n",
    "        if n==0:\n",
    "            return 1\n",
    "        a,b=1,abs(n)\n",
    "        while a<b:\n",
    "            x*=x\n",
    "            a+=1\n",
    "        if n<0:\n",
    "            return 1/x\n",
    "        return x\n",
    "s=Solution()\n",
    "print(s.mypow(x=2,n=-2))"
   ]
  },
  {
   "cell_type": "markdown",
   "id": "4f7c924f",
   "metadata": {},
   "source": [
    "# 标准答案"
   ]
  },
  {
   "cell_type": "code",
   "execution_count": 8,
   "id": "9e6f20eb",
   "metadata": {},
   "outputs": [
    {
     "name": "stdout",
     "output_type": "stream",
     "text": [
      "0.25\n"
     ]
    }
   ],
   "source": [
    "class Solution:\n",
    "    def mypow(self,x,n):\n",
    "        if n==0:\n",
    "            return 1\n",
    "        a,b = 1,abs(n)\n",
    "        while b>0:\n",
    "            if b&1==1:    #二进制位与\n",
    "                a*=x\n",
    "            b>>=1      #二进制移一位=*2\n",
    "            x*=x       #递归思想1~10：由1，2，4，8组成\n",
    "        if n<0:\n",
    "            return 1/a\n",
    "        return a\n",
    "s=Solution()\n",
    "print(s.mypow(x=2,n=-2))"
   ]
  }
 ],
 "metadata": {
  "kernelspec": {
   "display_name": "Python 3 (ipykernel)",
   "language": "python",
   "name": "python3"
  },
  "language_info": {
   "codemirror_mode": {
    "name": "ipython",
    "version": 3
   },
   "file_extension": ".py",
   "mimetype": "text/x-python",
   "name": "python",
   "nbconvert_exporter": "python",
   "pygments_lexer": "ipython3",
   "version": "3.8.8"
  },
  "toc": {
   "base_numbering": 1,
   "nav_menu": {},
   "number_sections": true,
   "sideBar": true,
   "skip_h1_title": false,
   "title_cell": "Table of Contents",
   "title_sidebar": "Contents",
   "toc_cell": false,
   "toc_position": {},
   "toc_section_display": true,
   "toc_window_display": false
  }
 },
 "nbformat": 4,
 "nbformat_minor": 5
}
