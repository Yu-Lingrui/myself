{
 "cells": [
  {
   "cell_type": "markdown",
   "id": "8e1b46ba",
   "metadata": {},
   "source": [
    "# 题目"
   ]
  },
  {
   "cell_type": "markdown",
   "id": "7bb01116",
   "metadata": {},
   "source": [
    "病毒每5天1个人感染2个人，预测第31天和61天病毒感染人数"
   ]
  },
  {
   "cell_type": "markdown",
   "id": "2738cdc7",
   "metadata": {},
   "source": [
    "# 算法思想"
   ]
  },
  {
   "cell_type": "markdown",
   "id": "c7f0a192",
   "metadata": {},
   "source": [
    "<font color=red size=5> 核心：迭代、循环 </font>   \n",
    "步骤：   \n",
    "单分支：天数轮数k=n//5，感染人数（n<5:1）(n>5:2^n)   \n",
    "多分支：大循环（k-1分支圆范围扩散:函数递减迭代累加之前所有单分支；求和：等比数列）（2^n+..2^1+(k-1）分支+1）#n^n\n",
    "   \n",
    "数学公式，知识：    \n",
    "1)等比数列求和：n（数列个数）$$\\frac{a_0*(1-q^n)}{1-q}$$"
   ]
  },
  {
   "cell_type": "markdown",
   "id": "a8eb6ff4",
   "metadata": {},
   "source": [
    "# 代码实现"
   ]
  },
  {
   "cell_type": "code",
   "execution_count": 82,
   "id": "bccbc6b5",
   "metadata": {},
   "outputs": [
    {
     "name": "stdout",
     "output_type": "stream",
     "text": [
      "请输入预测天数:31\n",
      "第31天感染人数为:242\n"
     ]
    }
   ],
   "source": [
    "n=float(input(\"请输入预测天数:\"))\n",
    "n=int(n)\n",
    "m=1;r=n%5;\n",
    "if r==0:\n",
    "    k=(n//5)-1#感染轮数 \n",
    "else:\n",
    "    k=n//5\n",
    "def predict(k):\n",
    "    if n == 0:\n",
    "        return 0\n",
    "    if n <= 5:\n",
    "        return 1\n",
    "    if k == 1:\n",
    "        return 4\n",
    "    else:\n",
    "        m = -(1 - 2**(k + 1))\n",
    "        return m+predict(k - 1)-1\n",
    "m = predict(k)\n",
    "print('第%d天感染人数为:%d'%(n,m))"
   ]
  },
  {
   "cell_type": "markdown",
   "id": "3cee86d5",
   "metadata": {},
   "source": [
    "# 执行效率和占用内存\n",
    "%%timeit "
   ]
  },
  {
   "cell_type": "markdown",
   "id": "4f7c924f",
   "metadata": {},
   "source": [
    "# 标准答案"
   ]
  },
  {
   "cell_type": "code",
   "execution_count": 73,
   "id": "9b867a48",
   "metadata": {},
   "outputs": [
    {
     "name": "stdout",
     "output_type": "stream",
     "text": [
      "1093\n"
     ]
    }
   ],
   "source": [
    "def Virus(d):\n",
    "    n=0\n",
    "    i=0\n",
    "    for day in range(0,d,5): #间隔5天:i=0;i+=5;i<d\n",
    "        n+=3**i              #指数爆炸公式：1+3^1+...3^n\n",
    "        i+=1\n",
    "    print(n)\n",
    "Virus(31)"
   ]
  }
 ],
 "metadata": {
  "kernelspec": {
   "display_name": "Python 3 (ipykernel)",
   "language": "python",
   "name": "python3"
  },
  "language_info": {
   "codemirror_mode": {
    "name": "ipython",
    "version": 3
   },
   "file_extension": ".py",
   "mimetype": "text/x-python",
   "name": "python",
   "nbconvert_exporter": "python",
   "pygments_lexer": "ipython3",
   "version": "3.9.7"
  },
  "toc": {
   "base_numbering": 1,
   "nav_menu": {},
   "number_sections": true,
   "sideBar": true,
   "skip_h1_title": false,
   "title_cell": "Table of Contents",
   "title_sidebar": "Contents",
   "toc_cell": false,
   "toc_position": {},
   "toc_section_display": true,
   "toc_window_display": false
  }
 },
 "nbformat": 4,
 "nbformat_minor": 5
}
