{
 "cells": [
  {
   "cell_type": "markdown",
   "id": "8e1b46ba",
   "metadata": {},
   "source": [
    "# 题目\n",
    "给定一个整数数组 nums 和一个整数目标值 target，请你在该数组中找出 和为目标值 target  的那 两个 整数，并返回它们的数组下标。\n",
    "\n",
    "你可以假设每种输入只会对应一个答案。但是，数组中同一个元素在答案里不能重复出现。\n",
    "\n",
    "你可以按任意顺序返回答案。\n",
    "\n",
    "示例 1：\n",
    "\n",
    "输入：nums = [2,7,11,15], target = 9\n",
    "输出：[0,1]\n",
    "解释：因为 nums[0] + nums[1] == 9 ，返回 [0, 1] 。\n",
    "\n",
    "示例 2：\n",
    "\n",
    "输入：nums = [3,2,4], target = 6\n",
    "输出：[1,2]\n",
    "\n",
    "示例 3：\n",
    "\n",
    "输入：nums = [3,3], target = 6\n",
    "输出：[0,1]\n",
    " \n",
    "\n",
    "提示：\n",
    "\n",
    "2 <= nums.length <= 104\n",
    "-109 <= nums[i] <= 109\n",
    "-109 <= target <= 109\n",
    "只会存在一个有效答案\n",
    "进阶：你可以想出一个时间复杂度小于 O(n2) 的算法吗？"
   ]
  },
  {
   "cell_type": "markdown",
   "id": "ea0fe222",
   "metadata": {},
   "source": [
    "# 算法思想"
   ]
  },
  {
   "cell_type": "markdown",
   "id": "c7f0a192",
   "metadata": {},
   "source": [
    "<font color=red size=5> 核心：判断、循环 </font>   \n",
    "步骤：   \n",
    "1）枚举遍历两数（冒泡）   \n",
    "2）判断两个数之和是否等于对象\n",
    "\n",
    "数学公式，知识：\n",
    "枚举和哈希表（牺牲空间换取时间）<$O(n^2)$"
   ]
  },
  {
   "cell_type": "markdown",
   "id": "f3eaa1d6",
   "metadata": {},
   "source": [
    "# 代码实现"
   ]
  },
  {
   "cell_type": "code",
   "execution_count": null,
   "id": "d8b0295f",
   "metadata": {},
   "outputs": [],
   "source": [
    "#两数之和（leetcode提交）\n",
    "class Solution:\n",
    "    def twoSum(self, nums: List[int], target: int) -> List[int]:\n",
    "        \"\"\"\n",
    "        :type nums: List[int]\n",
    "        :type target: int\n",
    "        :rtype: List[int]\n",
    "        \"\"\"\n",
    "        result = []\n",
    "        N = len(nums)\n",
    "        i = 0\n",
    "        while i < N - 1:\n",
    "            if i > 0 and nums[i] == nums[i - 1]:\n",
    "                i += 1\n",
    "                continue\n",
    "            j = i + 1\n",
    "            while j < N:\n",
    "                if j > i + 1 and nums[j] == nums[j - 1]:\n",
    "                    j += 1\n",
    "                    continue\n",
    "                if target == nums[i] + nums[j]:\n",
    "                    result.append(i)\n",
    "                    result.append(j)\n",
    "                    return result\n",
    "                j += 1\n",
    "            i += 1"
   ]
  },
  {
   "cell_type": "code",
   "execution_count": null,
   "id": "ab1050c2",
   "metadata": {},
   "outputs": [],
   "source": [
    "# 官方解答一：\n",
    "class Solution:\n",
    "    def twoSum(self, nums: List[int], target: int) -> List[int]:\n",
    "        n = len(nums)\n",
    "        for i in range(n):\n",
    "            for j in range(i + 1, n):\n",
    "                if nums[i] + nums[j] == target:\n",
    "                    return [i, j]\n",
    "        \n",
    "        return []"
   ]
  },
  {
   "cell_type": "markdown",
   "id": "0736f3db",
   "metadata": {},
   "source": [
    "方法一：暴力枚举\n",
    "\n",
    "思路及算法\n",
    "\n",
    "最容易想到的方法是枚举数组中的每一个数 x，寻找数组中是否存在 target - x。\n",
    "\n",
    "当我们使用遍历整个数组的方式寻找 target - x 时，需要注意到每一个位于 x 之前的元素都已经和 x 匹配过，因此不需要再进行匹配。而每一个元素不能被使用两次，所以我们只需要在 x 后面的元素中寻找 target - x。\n",
    "\n",
    "复杂度分析\n",
    "\n",
    "时间复杂度：$O(N^2)$，其中 *N* 是数组中的元素数量。最坏情况下数组中任意两个数都要被匹配一次。\n",
    "\n",
    "空间复杂度：$O(1)$。"
   ]
  },
  {
   "cell_type": "code",
   "execution_count": null,
   "id": "e9bace17",
   "metadata": {},
   "outputs": [],
   "source": [
    "# 官方解答二：\n",
    "class Solution:\n",
    "    def twoSum(self, nums: List[int], target: int) -> List[int]:\n",
    "        hashtable = dict()\n",
    "        for i, num in enumerate(nums):\n",
    "            if target - num in hashtable:\n",
    "                return [hashtable[target - num], i]\n",
    "            hashtable[nums[i]] = i\n",
    "        return []"
   ]
  },
  {
   "cell_type": "markdown",
   "id": "0b093401",
   "metadata": {},
   "source": [
    "方法二：哈希表\n",
    "\n",
    "思路及算法\n",
    "\n",
    "注意到方法一的时间复杂度较高的原因是寻找 target - x 的时间复杂度过高。因此，我们需要一种更优秀的方法，能够快速寻找数组中是否存在目标元素。如果存在，我们需要找出它的索引。\n",
    "\n",
    "使用哈希表，可以将寻找 target - x 的时间复杂度降低到从 $O(N)$ 降低到 $O(1)$。\n",
    "\n",
    "这样我们创建一个哈希表，对于每一个 x，我们首先查询哈希表中是否存在 target - x，然后将 x 插入到哈希表中，即可保证不会让 x 和自己匹配。\n",
    "\n",
    "复杂度分析\n",
    "\n",
    "时间复杂度：$O(N)$，其中 NN 是数组中的元素数量。对于每一个元素 x，我们可以 $O(1)$地寻找 target - x。\n",
    "\n",
    "空间复杂度：$O(N)$，其中 NN 是数组中的元素数量。主要为哈希表的开销。"
   ]
  },
  {
   "cell_type": "code",
   "execution_count": 1,
   "id": "b2b74508",
   "metadata": {},
   "outputs": [
    {
     "name": "stdout",
     "output_type": "stream",
     "text": [
      "[[-3, -2, 2, 3], [-3, -1, 1, 3], [-3, 0, 0, 3], [-3, 0, 1, 2], [-2, -1, 0, 3], [-2, -1, 1, 2], [-2, 0, 0, 2], [-1, 0, 0, 1]]\n"
     ]
    }
   ],
   "source": [
    "#四数之和\n",
    "#冒泡：四嵌套循环\n",
    "def fourSum(nums,target):\n",
    "    nums.sort()\n",
    "    result=[]\n",
    "    N=len(nums)\n",
    "    i=0\n",
    "    while i<N-3:        #i,j为1指针，预留4位\n",
    "        if i>0 and nums[i]==nums[i-1]: #重复元素只用遍历一次即可\n",
    "            i+=1\n",
    "            continue\n",
    "        j=i+1\n",
    "        while j<N-2:\n",
    "            if j>i+1 and nums[j]==nums[j-1]: #缩小范围同上面\n",
    "                j+=1\n",
    "                continue\n",
    "            # 取前后数组成4位\n",
    "            k=j+1\n",
    "            l=N-1\n",
    "            while k<l:      #k第三个数，l从最后倒退\n",
    "                if k>j+1 and nums[k]==nums[k-1]: #缩小范围同上面\n",
    "                    k+=1\n",
    "                    continue\n",
    "                while k<l and (target-nums[i]-nums[j]-nums[k]-nums[l]<0):#<0:排序是从小到大,继续缩小搜索\n",
    "                    l-=1\n",
    "                if k>=l: #搜索完了退出当前循环\n",
    "                    break\n",
    "                if target==nums[i]+nums[j]+nums[k]+nums[l]:\n",
    "                        result.append([nums[i],\n",
    "                                      nums[j],\n",
    "                                      nums[k],\n",
    "                                      nums[l]])\n",
    "                k+=1\n",
    "            j+=1\n",
    "        i+=1\n",
    "    return result\n",
    "print(fourSum(nums=[1,0,-1,0,-2,2,3,-3],target=0))                    "
   ]
  }
 ],
 "metadata": {
  "kernelspec": {
   "display_name": "Python 3 (ipykernel)",
   "language": "python",
   "name": "python3"
  },
  "language_info": {
   "codemirror_mode": {
    "name": "ipython",
    "version": 3
   },
   "file_extension": ".py",
   "mimetype": "text/x-python",
   "name": "python",
   "nbconvert_exporter": "python",
   "pygments_lexer": "ipython3",
   "version": "3.9.7"
  },
  "toc": {
   "base_numbering": 1,
   "nav_menu": {},
   "number_sections": true,
   "sideBar": true,
   "skip_h1_title": false,
   "title_cell": "Table of Contents",
   "title_sidebar": "Contents",
   "toc_cell": false,
   "toc_position": {},
   "toc_section_display": true,
   "toc_window_display": false
  },
  "widgets": {
   "application/vnd.jupyter.widget-state+json": {
    "state": {},
    "version_major": 2,
    "version_minor": 0
   }
  }
 },
 "nbformat": 4,
 "nbformat_minor": 5
}
