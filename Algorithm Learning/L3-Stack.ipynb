{
 "cells": [
  {
   "cell_type": "markdown",
   "id": "8e1b46ba",
   "metadata": {},
   "source": [
    "# 题目"
   ]
  },
  {
   "cell_type": "markdown",
   "id": "9dcfd217",
   "metadata": {},
   "source": [
    "求字符串公式'3+5*(9-2+5)/(2+4)+(1+2)'的值"
   ]
  },
  {
   "cell_type": "markdown",
   "id": "e883f236",
   "metadata": {},
   "source": [
    "# 算法思想"
   ]
  },
  {
   "cell_type": "markdown",
   "id": "db408838",
   "metadata": {},
   "source": [
    "<font color=red size=5> 核心：进栈，出栈 </font>   \n",
    "步骤：   \n",
    "1）先将字符串依次进栈压入，字符串转数值      \n",
    "2）然后指定出栈进行计算，顺序：（），左到右*/，+-    \n",
    "数学公式，知识：    \n",
    "先进后出，后进先出\n",
    "append进栈，pop出栈"
   ]
  },
  {
   "cell_type": "markdown",
   "id": "a8eb6ff4",
   "metadata": {},
   "source": [
    "# 代码实现"
   ]
  },
  {
   "cell_type": "code",
   "execution_count": 37,
   "id": "c1c49130",
   "metadata": {},
   "outputs": [
    {
     "name": "stdout",
     "output_type": "stream",
     "text": [
      "进栈后的堆栈情况： ['3', '+', '5', '*', '2', '+', '3']\n",
      "字符串公式的值为 16\n"
     ]
    }
   ],
   "source": [
    "a='3+5*2+3'\n",
    "stack=[]\n",
    "for s in a:\n",
    "    stack.append(s)                  #元素依次进栈\n",
    "print('进栈后的堆栈情况：',stack)\n",
    "sum=int(stack.pop(0))+int(stack.pop(1))*int(stack.pop(2))+int(stack.pop())       #元素依次出栈(从左到右弹一个少一个)  \n",
    "print('字符串公式的值为',sum)"
   ]
  },
  {
   "cell_type": "markdown",
   "id": "4f7c924f",
   "metadata": {},
   "source": [
    "# 标准答案"
   ]
  },
  {
   "cell_type": "code",
   "execution_count": 38,
   "id": "122aca2d",
   "metadata": {},
   "outputs": [
    {
     "name": "stdout",
     "output_type": "stream",
     "text": [
      "['9', '-', '2', '+', '5']\n",
      "End: ['12.0']\n",
      "Go ['3', '+', '5', '*', '12.0'] 第 1 个 () = 12.0\n",
      "['2', '+', '4']\n",
      "End: ['6.0']\n",
      "Go ['3', '+', '5', '*', '12.0', '/', '6.0'] 第 2 个 () = 6.0\n",
      "['1', '+', '2']\n",
      "End: ['3.0']\n",
      "Go ['3', '+', '5', '*', '12.0', '/', '6.0', '+', '3.0'] 第 3 个 () = 3.0\n",
      "开始无（）计算\n",
      "['3', '+', '5', '*', '12.0', '/', '6.0', '+', '3.0']\n",
      "End: ['16.0']\n",
      "3+5*(9-2+5)/(2+4)+(1+2) = 16.0\n"
     ]
    }
   ],
   "source": [
    "def Formula(F):\n",
    "    Stack=[]\n",
    "    b=0\n",
    "    p=0\n",
    "    a=1\n",
    "    for one in F:       #入栈过程\n",
    "                        #先判断（）\n",
    "        if one==\"(\":\n",
    "            p=b     \n",
    "        if one==')':\n",
    "            V=OutStack(Stack[p+1:b]) #（）里的内容\n",
    "            Stack=Stack[0:p]\n",
    "            Stack.append(V)\n",
    "            print('Go',Stack,'第',a,'个','()','=',V)\n",
    "            a+=1\n",
    "            b=p            #()算出后索引移回去!\n",
    "        else:\n",
    "            Stack.append(one)\n",
    "        b+=1\n",
    "    print('开始无（）计算')\n",
    "    OutStack(Stack)\n",
    "    return Stack\n",
    "def OutStack(S):      #从栈里出来进行四则运算\n",
    "    print(S)          \n",
    "    i=0\n",
    "    n=len(S)\n",
    "    while i<n-1:     #再判断*/\n",
    "        if S[i]==\"*\":\n",
    "            S[i-1]=str(float(S[i-1])*float(S[i+1]))\n",
    "            S.pop(i+1)\n",
    "            S.pop(i)\n",
    "            n-=2\n",
    "        elif S[i]=='/':\n",
    "            S[i-1]=str(float(S[i-1])/float(S[i+1]))\n",
    "            S.pop(i+1)\n",
    "            S.pop(i)\n",
    "            n-=2\n",
    "        else:\n",
    "            i+=1\n",
    "    i=0\n",
    "    while i<n-1:     #再判断+-\n",
    "        if S[i]==\"+\":\n",
    "            S[i-1]=str(float(S[i-1])+float(S[i+1]))\n",
    "            S.pop(i+1)\n",
    "            S.pop(i)\n",
    "            n-=2\n",
    "        elif S[i]=='-':\n",
    "            S[i-1]=str(float(S[i-1])-float(S[i+1]))\n",
    "            S.pop(i+1)\n",
    "            S.pop(i)\n",
    "            n-=2\n",
    "        else:\n",
    "            i+=1\n",
    "    print('End:',S)        \n",
    "    return S[0]\n",
    "\n",
    "#code='3+5*(9-2+5)/(2+4)+(1+2)'       #数字控制在1到9之间\n",
    "code='3+5*(9-2+5)/(2+4)+(1+2)'     #若括号嵌套还需要完善代码\n",
    "V=Formula(code)\n",
    "print(code,'=',V[0])"
   ]
  }
 ],
 "metadata": {
  "kernelspec": {
   "display_name": "Python 3 (ipykernel)",
   "language": "python",
   "name": "python3"
  },
  "language_info": {
   "codemirror_mode": {
    "name": "ipython",
    "version": 3
   },
   "file_extension": ".py",
   "mimetype": "text/x-python",
   "name": "python",
   "nbconvert_exporter": "python",
   "pygments_lexer": "ipython3",
   "version": "3.8.8"
  },
  "toc": {
   "base_numbering": 1,
   "nav_menu": {},
   "number_sections": true,
   "sideBar": true,
   "skip_h1_title": false,
   "title_cell": "Table of Contents",
   "title_sidebar": "Contents",
   "toc_cell": false,
   "toc_position": {},
   "toc_section_display": true,
   "toc_window_display": false
  }
 },
 "nbformat": 4,
 "nbformat_minor": 5
}
