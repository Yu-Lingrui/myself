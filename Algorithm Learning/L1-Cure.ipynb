{
 "cells": [
  {
   "cell_type": "markdown",
   "id": "8e1b46ba",
   "metadata": {},
   "source": [
    "# 题目"
   ]
  },
  {
   "cell_type": "markdown",
   "id": "8a690a75",
   "metadata": {},
   "source": [
    "在病毒每五天传染1个人传染给2个人的基础上，发现病毒有14天的潜伏期，满14天后，患者去医院救治，救治时间为10天，入院10天后可以出院。   \n",
    "设医院累计出院人数超过1000人时，饱和，日均出院人数为1000，求第31天和第61天医院的出院人数。"
   ]
  },
  {
   "cell_type": "markdown",
   "id": "b512892d",
   "metadata": {},
   "source": [
    "# 算法思想"
   ]
  },
  {
   "cell_type": "markdown",
   "id": "c7f0a192",
   "metadata": {},
   "source": [
    "<font color=red size=5> 核心：累加、循环、嵌套 </font>   \n",
    "步骤：   \n",
    "1）根据感染人数插入累加14天的间隔求得对应天数需救治人数  \n",
    "2）根据救治人数插入累加10天的间隔求得对应天数出院人数    \n",
    "#每一轮新感染的人数设立个新标签，累加算感染天数14，住院，累加住院天数10，出院#     \n",
    "数学公式，知识：     "
   ]
  },
  {
   "cell_type": "markdown",
   "id": "a8eb6ff4",
   "metadata": {},
   "source": [
    "# 代码实现"
   ]
  },
  {
   "cell_type": "markdown",
   "id": "3cee86d5",
   "metadata": {},
   "source": [
    "# 执行效率和占用内存\n",
    "%%timeit "
   ]
  },
  {
   "cell_type": "markdown",
   "id": "4f7c924f",
   "metadata": {},
   "source": [
    "# 标准答案"
   ]
  },
  {
   "cell_type": "code",
   "execution_count": 20,
   "id": "a3446841",
   "metadata": {},
   "outputs": [
    {
     "name": "stdout",
     "output_type": "stream",
     "text": [
      "31天共出院人数13\n",
      "61天共出院人数364\n"
     ]
    }
   ],
   "source": [
    "def Cure(d):\n",
    "    dayOut=1           #第15天第一个出院\n",
    "    i=0\n",
    "    m=0                #出院人数\n",
    "    for _ in range(16,d,10): #10天一循环\n",
    "        i+=1\n",
    "        dayOut+=3**i   #累计出院人数\n",
    "        if dayOut<1000:\n",
    "            m=dayOut\n",
    "        else:\n",
    "            m+=1000*10   #改为每天饱和出院人数\n",
    "    print('%d天共出院人数%d'%(d,m))\n",
    "Cure(31)\n",
    "Cure(61)"
   ]
  }
 ],
 "metadata": {
  "kernelspec": {
   "display_name": "Python 3 (ipykernel)",
   "language": "python",
   "name": "python3"
  },
  "language_info": {
   "codemirror_mode": {
    "name": "ipython",
    "version": 3
   },
   "file_extension": ".py",
   "mimetype": "text/x-python",
   "name": "python",
   "nbconvert_exporter": "python",
   "pygments_lexer": "ipython3",
   "version": "3.9.7"
  },
  "toc": {
   "base_numbering": 1,
   "nav_menu": {},
   "number_sections": true,
   "sideBar": true,
   "skip_h1_title": false,
   "title_cell": "Table of Contents",
   "title_sidebar": "Contents",
   "toc_cell": false,
   "toc_position": {},
   "toc_section_display": true,
   "toc_window_display": false
  }
 },
 "nbformat": 4,
 "nbformat_minor": 5
}
