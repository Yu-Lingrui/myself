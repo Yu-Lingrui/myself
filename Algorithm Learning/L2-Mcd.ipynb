{
 "cells": [
  {
   "cell_type": "markdown",
   "id": "8e1b46ba",
   "metadata": {},
   "source": [
    "# 题目"
   ]
  },
  {
   "cell_type": "markdown",
   "id": "1d70727d",
   "metadata": {},
   "source": [
    "用reduce=2增1的方法开始求两个数的最大公约数，要求循环次数最小"
   ]
  },
  {
   "cell_type": "markdown",
   "id": "ea0fe222",
   "metadata": {},
   "source": [
    "# 算法思想"
   ]
  },
  {
   "cell_type": "markdown",
   "id": "c7f0a192",
   "metadata": {},
   "source": [
    "<font color=red size=5> 核心：判断、循环 </font>   \n",
    "步骤：   \n",
    "1）判断两个数大小    \n",
    "2）判断两个数都能整除与否\n",
    "\n",
    "数学公式，知识：   "
   ]
  },
  {
   "cell_type": "markdown",
   "id": "a8eb6ff4",
   "metadata": {},
   "source": [
    "# 代码实现"
   ]
  },
  {
   "cell_type": "code",
   "execution_count": 19,
   "id": "19617b72",
   "metadata": {},
   "outputs": [
    {
     "name": "stdout",
     "output_type": "stream",
     "text": [
      "输入第一个整数：1\n",
      "输入第二个整数：2\n",
      "输入数出错！\n"
     ]
    }
   ],
   "source": [
    "def Divisor(x,y):\n",
    "    reduce=2\n",
    "    a=[]\n",
    "    if x<y:\n",
    "        m=x\n",
    "    elif x>y:\n",
    "        m=y\n",
    "    else:\n",
    "        return x\n",
    "    while reduce<=m:\n",
    "        if x%reduce==0 and y%reduce==0:\n",
    "            a.append(reduce)\n",
    "            reduce+=1\n",
    "        else:\n",
    "            reduce+=1\n",
    "    return max(a)\n",
    "try:\n",
    "    n1=int(input('输入第一个整数：'))\n",
    "    n2=int(input('输入第二个整数：'))\n",
    "    if n1<=0 or n2<=0:\n",
    "        print('输入整数应该大于零')\n",
    "    else:\n",
    "        print('%d和%d的最大公约数是%d'%(n1,n2,Divisor(n1,n2)))\n",
    "except:\n",
    "    print('输入数出错！')"
   ]
  },
  {
   "cell_type": "markdown",
   "id": "3cee86d5",
   "metadata": {},
   "source": [
    "# 执行效率和占用内存\n",
    "%%timeit "
   ]
  },
  {
   "cell_type": "markdown",
   "id": "4f7c924f",
   "metadata": {},
   "source": [
    "# 标准答案"
   ]
  },
  {
   "cell_type": "code",
   "execution_count": null,
   "id": "d6c85f3c",
   "metadata": {},
   "outputs": [],
   "source": [
    "def MCD(x,y):\n",
    "    if x>y:\n",
    "        small=y\n",
    "    else:\n",
    "        small=x\n",
    "    if x%small==0 and y%small==0:  #考虑x,y本身是倍数关系\n",
    "        return small\n",
    "    i=2\n",
    "    small=small//2+1               #优化循环次数\n",
    "    print('小数折半%d'%(small))\n",
    "    maxCD=1\n",
    "    while i<small:\n",
    "        if x%i==0 and y%i==0:\n",
    "            maxCD=i\n",
    "        i+=1\n",
    "    return maxCD\n",
    "x=50\n",
    "y=30\n",
    "v=MCD(x,y)\n",
    "print('%d和%d的最大公约数是%d'%(x,y,v))"
   ]
  }
 ],
 "metadata": {
  "kernelspec": {
   "display_name": "Python 3 (ipykernel)",
   "language": "python",
   "name": "python3"
  },
  "language_info": {
   "codemirror_mode": {
    "name": "ipython",
    "version": 3
   },
   "file_extension": ".py",
   "mimetype": "text/x-python",
   "name": "python",
   "nbconvert_exporter": "python",
   "pygments_lexer": "ipython3",
   "version": "3.9.7"
  },
  "toc": {
   "base_numbering": 1,
   "nav_menu": {},
   "number_sections": true,
   "sideBar": true,
   "skip_h1_title": false,
   "title_cell": "Table of Contents",
   "title_sidebar": "Contents",
   "toc_cell": false,
   "toc_position": {},
   "toc_section_display": true,
   "toc_window_display": false
  }
 },
 "nbformat": 4,
 "nbformat_minor": 5
}
