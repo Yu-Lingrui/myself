{
 "cells": [
  {
   "cell_type": "code",
   "execution_count": 46,
   "id": "bbfbab79",
   "metadata": {},
   "outputs": [
    {
     "name": "stdout",
     "output_type": "stream",
     "text": [
      "[[1, 2, 3], [1, 3, 2], [2, 1, 3], [2, 3, 1], [3, 1, 2], [3, 2, 1]]\n"
     ]
    }
   ],
   "source": [
    "def permute(nums):\n",
    "    e = []\n",
    "    if (len(nums)==1):\n",
    "        return [nums]\n",
    "    for i in range(len(nums)):\n",
    "        q = permute(nums[:i]+nums[i+1:])  #( ,i]+[i+1,end):每次将i提出来加在序列最后\n",
    "        for c in q:\n",
    "            e.append([nums[i]] + c)\n",
    "    return e\n",
    "print(permute(nums=[1,2,3]))"
   ]
  }
 ],
 "metadata": {
  "kernelspec": {
   "display_name": "Python 3 (ipykernel)",
   "language": "python",
   "name": "python3"
  },
  "language_info": {
   "codemirror_mode": {
    "name": "ipython",
    "version": 3
   },
   "file_extension": ".py",
   "mimetype": "text/x-python",
   "name": "python",
   "nbconvert_exporter": "python",
   "pygments_lexer": "ipython3",
   "version": "3.8.8"
  },
  "toc": {
   "base_numbering": 1,
   "nav_menu": {},
   "number_sections": true,
   "sideBar": true,
   "skip_h1_title": false,
   "title_cell": "Table of Contents",
   "title_sidebar": "Contents",
   "toc_cell": false,
   "toc_position": {},
   "toc_section_display": true,
   "toc_window_display": false
  }
 },
 "nbformat": 4,
 "nbformat_minor": 5
}
