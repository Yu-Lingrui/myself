{
 "cells": [
  {
   "cell_type": "markdown",
   "id": "8e1b46ba",
   "metadata": {},
   "source": [
    "# 题目"
   ]
  },
  {
   "cell_type": "markdown",
   "id": "18b3a71e",
   "metadata": {},
   "source": [
    "用小的数乘以倍数的方法求两个正整数的最小公倍数"
   ]
  },
  {
   "cell_type": "markdown",
   "id": "b072c8a6",
   "metadata": {},
   "source": [
    "# 算法思想"
   ]
  },
  {
   "cell_type": "markdown",
   "id": "c7f0a192",
   "metadata": {},
   "source": [
    "<font color=red size=5> 核心：循环、递乘 </font>   \n",
    "步骤：   \n",
    "1）判断两个数大小    \n",
    "2）递乘判断两个数都能整除\n",
    "\n",
    "数学公式，知识：   "
   ]
  },
  {
   "cell_type": "markdown",
   "id": "a8eb6ff4",
   "metadata": {},
   "source": [
    "# 代码实现"
   ]
  },
  {
   "cell_type": "code",
   "execution_count": 5,
   "id": "bea745d6",
   "metadata": {},
   "outputs": [
    {
     "name": "stdout",
     "output_type": "stream",
     "text": [
      "输入第一个整数：3\n",
      "输入第二个整数：7\n",
      "3和7的最小公倍数是21\n"
     ]
    }
   ],
   "source": [
    "def MCD(x,y):\n",
    "    if x<y:\n",
    "        min=x\n",
    "        max=y\n",
    "    elif x==y:\n",
    "        return x\n",
    "    for i in range(1,max+1):\n",
    "        min*=i\n",
    "        if min%x==0 and min%y==0:\n",
    "            return min\n",
    "        else:\n",
    "            min=x\n",
    "try:\n",
    "    n1=int(input('输入第一个整数：'))\n",
    "    n2=int(input('输入第二个整数：'))\n",
    "    if n1<=0 or n2<=0:\n",
    "        print('输入整数应该大于零')\n",
    "    else:\n",
    "        print('%d和%d的最小公倍数是%d'%(n1,n2,MCD(n1,n2)))\n",
    "except:\n",
    "    print('输入数出错！')"
   ]
  },
  {
   "cell_type": "markdown",
   "id": "3cee86d5",
   "metadata": {},
   "source": [
    "# 执行效率和占用内存\n",
    "%%timeit "
   ]
  },
  {
   "cell_type": "markdown",
   "id": "4f7c924f",
   "metadata": {},
   "source": [
    "# 标准答案"
   ]
  },
  {
   "cell_type": "code",
   "execution_count": null,
   "id": "980381f3",
   "metadata": {},
   "outputs": [],
   "source": [
    "def LCM(x,y):\n",
    "    if x>y:\n",
    "        small=y\n",
    "    else:\n",
    "        small=x\n",
    "    i=1\n",
    "    m=small\n",
    "    while True:\n",
    "       if m%y==0 and m%x==0:\n",
    "           return m\n",
    "       else:\n",
    "           i+=1\n",
    "           m=small*i\n",
    "x,y=20,12\n",
    "v=LCM(x,y)\n",
    "print('%d和%d的最小公倍数是%d'%(x,y,v))"
   ]
  }
 ],
 "metadata": {
  "kernelspec": {
   "display_name": "Python 3 (ipykernel)",
   "language": "python",
   "name": "python3"
  },
  "language_info": {
   "codemirror_mode": {
    "name": "ipython",
    "version": 3
   },
   "file_extension": ".py",
   "mimetype": "text/x-python",
   "name": "python",
   "nbconvert_exporter": "python",
   "pygments_lexer": "ipython3",
   "version": "3.9.7"
  },
  "toc": {
   "base_numbering": 1,
   "nav_menu": {},
   "number_sections": true,
   "sideBar": true,
   "skip_h1_title": false,
   "title_cell": "Table of Contents",
   "title_sidebar": "Contents",
   "toc_cell": false,
   "toc_position": {},
   "toc_section_display": true,
   "toc_window_display": false
  }
 },
 "nbformat": 4,
 "nbformat_minor": 5
}
