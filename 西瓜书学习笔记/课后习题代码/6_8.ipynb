{
  "nbformat": 4,
  "nbformat_minor": 0,
  "metadata": {
    "colab": {
      "name": "6_8.ipynb",
      "provenance": [],
      "collapsed_sections": [],
      "toc_visible": true
    },
    "kernelspec": {
      "name": "python3",
      "display_name": "Python 3"
    },
    "language_info": {
      "name": "python"
    }
  },
  "cells": [
    {
      "cell_type": "markdown",
      "metadata": {
        "id": "oAvQyZhIwkBI"
      },
      "source": [
        "# 导包"
      ]
    },
    {
      "cell_type": "code",
      "metadata": {
        "id": "8hcPGc-4vQf8"
      },
      "source": [
        "import numpy as np\n",
        "import pandas as pd\n",
        "from sklearn.svm import SVR\n",
        "from google.colab import drive\n",
        "from matplotlib import pyplot as plt"
      ],
      "execution_count": 1,
      "outputs": []
    },
    {
      "cell_type": "markdown",
      "metadata": {
        "id": "KdxLeMm9wpKd"
      },
      "source": [
        "# 加载数据"
      ]
    },
    {
      "cell_type": "code",
      "metadata": {
        "colab": {
          "base_uri": "https://localhost:8080/"
        },
        "id": "wg-TjW24wrzY",
        "outputId": "1a1408e3-163d-44b8-a6c8-44c9a66ae5b3"
      },
      "source": [
        "drive.mount('/content/drive')\n",
        "df = pd.read_csv('/content/drive/MyDrive/data/tmp/watermelon3.csv')\n",
        "print(df)"
      ],
      "execution_count": 2,
      "outputs": [
        {
          "output_type": "stream",
          "text": [
            "Drive already mounted at /content/drive; to attempt to forcibly remount, call drive.mount(\"/content/drive\", force_remount=True).\n",
            "       密度    含糖率  好瓜\n",
            "0   0.697  0.460   1\n",
            "1   0.774  0.376   1\n",
            "2   0.634  0.264   1\n",
            "3   0.608  0.318   1\n",
            "4   0.556  0.215   1\n",
            "5   0.403  0.237   1\n",
            "6   0.481  0.149   1\n",
            "7   0.437  0.211   1\n",
            "8   0.666  0.091   0\n",
            "9   0.243  0.267   0\n",
            "10  0.245  0.057   0\n",
            "11  0.343  0.099   0\n",
            "12  0.639  0.161   0\n",
            "13  0.657  0.198   0\n",
            "14  0.360  0.370   0\n",
            "15  0.593  0.042   0\n",
            "16  0.719  0.103   0\n"
          ],
          "name": "stdout"
        }
      ]
    },
    {
      "cell_type": "markdown",
      "metadata": {
        "id": "nJRiVTAH3h65"
      },
      "source": [
        "# 处理数据"
      ]
    },
    {
      "cell_type": "code",
      "metadata": {
        "colab": {
          "base_uri": "https://localhost:8080/"
        },
        "id": "WIp_TIyZ3U9p",
        "outputId": "90bc1f0d-ac1f-401b-89d3-afd0da89aa3e"
      },
      "source": [
        "x = df.iloc[:, 0].values.reshape((-1, 1))\n",
        "y = df.iloc[:, 1].values\n",
        "print(x)\n",
        "print(y)"
      ],
      "execution_count": 3,
      "outputs": [
        {
          "output_type": "stream",
          "text": [
            "[[0.697]\n",
            " [0.774]\n",
            " [0.634]\n",
            " [0.608]\n",
            " [0.556]\n",
            " [0.403]\n",
            " [0.481]\n",
            " [0.437]\n",
            " [0.666]\n",
            " [0.243]\n",
            " [0.245]\n",
            " [0.343]\n",
            " [0.639]\n",
            " [0.657]\n",
            " [0.36 ]\n",
            " [0.593]\n",
            " [0.719]]\n",
            "[0.46  0.376 0.264 0.318 0.215 0.237 0.149 0.211 0.091 0.267 0.057 0.099\n",
            " 0.161 0.198 0.37  0.042 0.103]\n"
          ],
          "name": "stdout"
        }
      ]
    },
    {
      "cell_type": "markdown",
      "metadata": {
        "id": "wsAfaZc-ppen"
      },
      "source": [
        "# 训练"
      ]
    },
    {
      "cell_type": "code",
      "metadata": {
        "colab": {
          "base_uri": "https://localhost:8080/"
        },
        "id": "X7adpZLuTV1T",
        "outputId": "23183338-fd83-4182-fc4b-4f369f1a43ad"
      },
      "source": [
        "svr = SVR(kernel='rbf')\n",
        "svr.fit(x, y)"
      ],
      "execution_count": 4,
      "outputs": [
        {
          "output_type": "execute_result",
          "data": {
            "text/plain": [
              "SVR(C=1.0, cache_size=200, coef0=0.0, degree=3, epsilon=0.1, gamma='scale',\n",
              "    kernel='rbf', max_iter=-1, shrinking=True, tol=0.001, verbose=False)"
            ]
          },
          "metadata": {
            "tags": []
          },
          "execution_count": 4
        }
      ]
    },
    {
      "cell_type": "markdown",
      "metadata": {
        "id": "UN4oNM3Hptsf"
      },
      "source": [
        "# 画图"
      ]
    },
    {
      "cell_type": "code",
      "metadata": {
        "colab": {
          "base_uri": "https://localhost:8080/",
          "height": 282
        },
        "id": "3UtI4GhcVV8H",
        "outputId": "f4ae8421-4994-4c4e-ae19-fccae9891f66"
      },
      "source": [
        "plt.figure() # 创建新图像\n",
        "plt.scatter(x, y)\n",
        "\n",
        "x_tmp = np.linspace(0.2, 0.8, 600).reshape((-1, 1))\n",
        "y_tmp = svr.predict(x_tmp)\n",
        "plt.plot(x_tmp, x_tmp, 'r')"
      ],
      "execution_count": 5,
      "outputs": [
        {
          "output_type": "execute_result",
          "data": {
            "text/plain": [
              "[<matplotlib.lines.Line2D at 0x7f982a020590>]"
            ]
          },
          "metadata": {
            "tags": []
          },
          "execution_count": 5
        },
        {
          "output_type": "display_data",
          "data": {
            "image/png": "[encoded data removed]",
            "text/plain": [
              "<Figure size 432x288 with 1 Axes>"
            ]
          },
          "metadata": {
            "tags": [],
            "needs_background": "light"
          }
        }
      ]
    }
  ]
}