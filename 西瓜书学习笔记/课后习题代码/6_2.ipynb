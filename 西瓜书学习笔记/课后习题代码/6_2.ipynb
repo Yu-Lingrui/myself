{
  "nbformat": 4,
  "nbformat_minor": 0,
  "metadata": {
    "colab": {
      "name": "6_2.ipynb",
      "provenance": [],
      "collapsed_sections": [],
      "toc_visible": true
    },
    "kernelspec": {
      "name": "python3",
      "display_name": "Python 3"
    },
    "language_info": {
      "name": "python"
    }
  },
  "cells": [
    {
      "cell_type": "markdown",
      "metadata": {
        "id": "oAvQyZhIwkBI"
      },
      "source": [
        "# 导包"
      ]
    },
    {
      "cell_type": "code",
      "metadata": {
        "id": "8hcPGc-4vQf8"
      },
      "source": [
        "import numpy as np\n",
        "import pandas as pd\n",
        "from sklearn import svm\n",
        "from google.colab import drive\n",
        "from matplotlib import pyplot as plt"
      ],
      "execution_count": 1,
      "outputs": []
    },
    {
      "cell_type": "markdown",
      "metadata": {
        "id": "AWiuPhdj7RWF"
      },
      "source": [
        "# 定义画图函数"
      ]
    },
    {
      "cell_type": "code",
      "metadata": {
        "id": "OZ_U613H7WAg"
      },
      "source": [
        "def plt_svm(model, name):\n",
        "  plt.figure() # 创建新图像\n",
        "  xp, xn = x[y==1], x[y==0] # 划分正负样本\n",
        "  plt.scatter(xp[:,0], xp[:,1], c='green', label='1') # 画出正样本\n",
        "  plt.scatter(xn[:,0], xn[:,1], c='blue', label='0') # 画出负样本\n",
        "  # 画出支持向量\n",
        "  plt.scatter(model.support_vectors_[:,0], \n",
        "              model.support_vectors_[:,1], \n",
        "              c='none', marker='o', edgecolors='r', s=150,\n",
        "              label='support_vectors') \n",
        "  \n",
        "  # 画出边界\n",
        "  ax = plt.subplot()\n",
        "  x_tmp = np.linspace(0.2, 0.8, 600)\n",
        "  y_tmp = np.linspace(0, 0.5, 500)\n",
        "\n",
        "  X_tmp, Y_tmp = np.meshgrid(x_tmp, y_tmp)\n",
        "  Z_tmp = model.predict(np.c_[X_tmp.ravel(), Y_tmp.ravel()]).reshape(X_tmp.shape)\n",
        "  cs = ax.contour(X_tmp, Y_tmp, Z_tmp, [0], colors='orange', linewidths=1)\n",
        "  ax.clabel(cs, fmt={cs.levels[0]: 'decision boundary'})\n",
        "  \n",
        "  plt.title(name)\n",
        "  plt.legend()\n",
        "  plt.show()"
      ],
      "execution_count": 2,
      "outputs": []
    },
    {
      "cell_type": "markdown",
      "metadata": {
        "id": "KdxLeMm9wpKd"
      },
      "source": [
        "# 加载数据"
      ]
    },
    {
      "cell_type": "code",
      "metadata": {
        "colab": {
          "base_uri": "https://localhost:8080/"
        },
        "id": "wg-TjW24wrzY",
        "outputId": "5874cc57-0556-4c6c-9e3b-26750e796b2f"
      },
      "source": [
        "drive.mount('/content/drive')\n",
        "df = pd.read_csv('/content/drive/MyDrive/data/tmp/watermelon3.csv')\n",
        "print(df)"
      ],
      "execution_count": 3,
      "outputs": [
        {
          "output_type": "stream",
          "text": [
            "Mounted at /content/drive\n",
            "       密度    含糖率  好瓜\n",
            "0   0.697  0.460   1\n",
            "1   0.774  0.376   1\n",
            "2   0.634  0.264   1\n",
            "3   0.608  0.318   1\n",
            "4   0.556  0.215   1\n",
            "5   0.403  0.237   1\n",
            "6   0.481  0.149   1\n",
            "7   0.437  0.211   1\n",
            "8   0.666  0.091   0\n",
            "9   0.243  0.267   0\n",
            "10  0.245  0.057   0\n",
            "11  0.343  0.099   0\n",
            "12  0.639  0.161   0\n",
            "13  0.657  0.198   0\n",
            "14  0.360  0.370   0\n",
            "15  0.593  0.042   0\n",
            "16  0.719  0.103   0\n"
          ],
          "name": "stdout"
        }
      ]
    },
    {
      "cell_type": "markdown",
      "metadata": {
        "id": "nJRiVTAH3h65"
      },
      "source": [
        "# 处理数据"
      ]
    },
    {
      "cell_type": "code",
      "metadata": {
        "colab": {
          "base_uri": "https://localhost:8080/"
        },
        "id": "WIp_TIyZ3U9p",
        "outputId": "7443e204-582c-4955-8477-2bbf7bf0f556"
      },
      "source": [
        "x = df.iloc[:, [0, 1]].values\n",
        "y = df.iloc[:, 2].values\n",
        "print(x)\n",
        "print(y)"
      ],
      "execution_count": 4,
      "outputs": [
        {
          "output_type": "stream",
          "text": [
            "[[0.697 0.46 ]\n",
            " [0.774 0.376]\n",
            " [0.634 0.264]\n",
            " [0.608 0.318]\n",
            " [0.556 0.215]\n",
            " [0.403 0.237]\n",
            " [0.481 0.149]\n",
            " [0.437 0.211]\n",
            " [0.666 0.091]\n",
            " [0.243 0.267]\n",
            " [0.245 0.057]\n",
            " [0.343 0.099]\n",
            " [0.639 0.161]\n",
            " [0.657 0.198]\n",
            " [0.36  0.37 ]\n",
            " [0.593 0.042]\n",
            " [0.719 0.103]]\n",
            "[1 1 1 1 1 1 1 1 0 0 0 0 0 0 0 0 0]\n"
          ],
          "name": "stdout"
        }
      ]
    },
    {
      "cell_type": "markdown",
      "metadata": {
        "id": "h0H7iXlG6nPd"
      },
      "source": [
        "# c=10 时线性核"
      ]
    },
    {
      "cell_type": "code",
      "metadata": {
        "colab": {
          "base_uri": "https://localhost:8080/"
        },
        "id": "nHc1s9sj7jyh",
        "outputId": "54f4b12d-a9c2-4597-981d-c674496be1d4"
      },
      "source": [
        "svm_linear = svm.SVC(C=10, kernel='linear')\n",
        "svm_linear.fit(x, y)\n",
        "print('c=10 时线性核 SVM 的支持向量：%d 个\\n' % len(svm_linear.support_vectors_),\n",
        "      svm_linear.support_vectors_)"
      ],
      "execution_count": 5,
      "outputs": [
        {
          "output_type": "stream",
          "text": [
            "c=10 时线性核 SVM 的支持向量：15 个\n",
            " [[0.666 0.091]\n",
            " [0.243 0.267]\n",
            " [0.343 0.099]\n",
            " [0.639 0.161]\n",
            " [0.657 0.198]\n",
            " [0.36  0.37 ]\n",
            " [0.593 0.042]\n",
            " [0.719 0.103]\n",
            " [0.774 0.376]\n",
            " [0.634 0.264]\n",
            " [0.608 0.318]\n",
            " [0.556 0.215]\n",
            " [0.403 0.237]\n",
            " [0.481 0.149]\n",
            " [0.437 0.211]]\n"
          ],
          "name": "stdout"
        }
      ]
    },
    {
      "cell_type": "code",
      "metadata": {
        "colab": {
          "base_uri": "https://localhost:8080/",
          "height": 352
        },
        "id": "YdHhz1yUAPlc",
        "outputId": "c38b66ef-be7b-4b21-e21c-a111352407f3"
      },
      "source": [
        "plt_svm(svm_linear, 'c=10 linear svm')"
      ],
      "execution_count": 6,
      "outputs": [
        {
          "output_type": "stream",
          "text": [
            "/usr/local/lib/python3.7/dist-packages/ipykernel_launcher.py:13: MatplotlibDeprecationWarning: Adding an axes using the same arguments as a previous axes currently reuses the earlier instance.  In a future version, a new instance will always be created and returned.  Meanwhile, this warning can be suppressed, and the future behavior ensured, by passing a unique label to each axes instance.\n",
            "  del sys.path[0]\n",
            "/usr/local/lib/python3.7/dist-packages/ipykernel_launcher.py:19: UserWarning: No contour levels were found within the data range.\n"
          ],
          "name": "stderr"
        },
        {
          "output_type": "display_data",
          "data": {
            "image/png": "[encoded data removed]",
            "text/plain": [
              "<Figure size 432x288 with 1 Axes>"
            ]
          },
          "metadata": {
            "tags": [],
            "needs_background": "light"
          }
        }
      ]
    },
    {
      "cell_type": "markdown",
      "metadata": {
        "id": "ggtfxg7N6tsy"
      },
      "source": [
        "# c=100 时线性核"
      ]
    },
    {
      "cell_type": "code",
      "metadata": {
        "colab": {
          "base_uri": "https://localhost:8080/"
        },
        "id": "CTzIS4xh9-bX",
        "outputId": "79f5a85e-ade8-456d-b1d5-a124dd3d26c0"
      },
      "source": [
        "svm_linear_pro = svm.SVC(C=100,kernel='linear')\n",
        "svm_linear_pro.fit(x, y)\n",
        "print('c=100 时线性核 SVM 的支持向量：%d 个\\n' % len(svm_linear_pro.support_vectors_),\n",
        "      svm_linear_pro.support_vectors_)"
      ],
      "execution_count": 7,
      "outputs": [
        {
          "output_type": "stream",
          "text": [
            "c=100 时线性核 SVM 的支持向量：13 个\n",
            " [[0.666 0.091]\n",
            " [0.243 0.267]\n",
            " [0.343 0.099]\n",
            " [0.639 0.161]\n",
            " [0.657 0.198]\n",
            " [0.36  0.37 ]\n",
            " [0.719 0.103]\n",
            " [0.634 0.264]\n",
            " [0.608 0.318]\n",
            " [0.556 0.215]\n",
            " [0.403 0.237]\n",
            " [0.481 0.149]\n",
            " [0.437 0.211]]\n"
          ],
          "name": "stdout"
        }
      ]
    },
    {
      "cell_type": "code",
      "metadata": {
        "colab": {
          "base_uri": "https://localhost:8080/",
          "height": 352
        },
        "id": "9FO8clZxGmlD",
        "outputId": "ff2f45b3-6aa9-41cb-c62c-d9d9992ff823"
      },
      "source": [
        "plt_svm(svm_linear_pro, 'c=100 linear svm')"
      ],
      "execution_count": 8,
      "outputs": [
        {
          "output_type": "stream",
          "text": [
            "/usr/local/lib/python3.7/dist-packages/ipykernel_launcher.py:13: MatplotlibDeprecationWarning: Adding an axes using the same arguments as a previous axes currently reuses the earlier instance.  In a future version, a new instance will always be created and returned.  Meanwhile, this warning can be suppressed, and the future behavior ensured, by passing a unique label to each axes instance.\n",
            "  del sys.path[0]\n",
            "/usr/local/lib/python3.7/dist-packages/ipykernel_launcher.py:19: UserWarning: No contour levels were found within the data range.\n"
          ],
          "name": "stderr"
        },
        {
          "output_type": "display_data",
          "data": {
            "image/png": "[encoded data removed]",
            "text/plain": [
              "<Figure size 432x288 with 1 Axes>"
            ]
          },
          "metadata": {
            "tags": [],
            "needs_background": "light"
          }
        }
      ]
    },
    {
      "cell_type": "markdown",
      "metadata": {
        "id": "zhfEpT7t6-r2"
      },
      "source": [
        "# c = 1 时高斯核"
      ]
    },
    {
      "cell_type": "code",
      "metadata": {
        "colab": {
          "base_uri": "https://localhost:8080/"
        },
        "id": "bdjFkqGm_ELP",
        "outputId": "59d72355-e388-4529-faa2-94275d4110bd"
      },
      "source": [
        "svm_rbf = svm.SVC(C=1,kernel='rbf')\n",
        "svm_rbf.fit(x, y)\n",
        "print('c=1 时高斯核 SVM 的支持向量：%d 个\\n' % len(svm_rbf.support_vectors_), \n",
        "      svm_rbf.support_vectors_)"
      ],
      "execution_count": 9,
      "outputs": [
        {
          "output_type": "stream",
          "text": [
            "c=1 时高斯核 SVM 的支持向量：17 个\n",
            " [[0.666 0.091]\n",
            " [0.243 0.267]\n",
            " [0.245 0.057]\n",
            " [0.343 0.099]\n",
            " [0.639 0.161]\n",
            " [0.657 0.198]\n",
            " [0.36  0.37 ]\n",
            " [0.593 0.042]\n",
            " [0.719 0.103]\n",
            " [0.697 0.46 ]\n",
            " [0.774 0.376]\n",
            " [0.634 0.264]\n",
            " [0.608 0.318]\n",
            " [0.556 0.215]\n",
            " [0.403 0.237]\n",
            " [0.481 0.149]\n",
            " [0.437 0.211]]\n"
          ],
          "name": "stdout"
        }
      ]
    },
    {
      "cell_type": "code",
      "metadata": {
        "colab": {
          "base_uri": "https://localhost:8080/",
          "height": 352
        },
        "id": "nCNTjWtKGr7a",
        "outputId": "da22782f-b88f-47b9-b848-f9c47fde1ee7"
      },
      "source": [
        "plt_svm(svm_rbf, 'c=1 rbf svm')"
      ],
      "execution_count": 10,
      "outputs": [
        {
          "output_type": "stream",
          "text": [
            "/usr/local/lib/python3.7/dist-packages/ipykernel_launcher.py:13: MatplotlibDeprecationWarning: Adding an axes using the same arguments as a previous axes currently reuses the earlier instance.  In a future version, a new instance will always be created and returned.  Meanwhile, this warning can be suppressed, and the future behavior ensured, by passing a unique label to each axes instance.\n",
            "  del sys.path[0]\n",
            "/usr/local/lib/python3.7/dist-packages/ipykernel_launcher.py:19: UserWarning: No contour levels were found within the data range.\n"
          ],
          "name": "stderr"
        },
        {
          "output_type": "display_data",
          "data": {
            "image/png": "[encoded data removed]",
            "text/plain": [
              "<Figure size 432x288 with 1 Axes>"
            ]
          },
          "metadata": {
            "tags": [],
            "needs_background": "light"
          }
        }
      ]
    },
    {
      "cell_type": "markdown",
      "metadata": {
        "id": "rQ5QjiCr6_3G"
      },
      "source": [
        "# c = 100 时高斯核"
      ]
    },
    {
      "cell_type": "code",
      "metadata": {
        "colab": {
          "base_uri": "https://localhost:8080/"
        },
        "id": "5SK6iotl65PQ",
        "outputId": "bce888c6-42a1-4b4c-f830-35e85014e31a"
      },
      "source": [
        "svm_rbf_pro = svm.SVC(C=100,kernel='rbf')\n",
        "svm_rbf_pro.fit(x, y)\n",
        "print('c=100 时线性核 SVM 的支持向量：%d 个\\n' % len(svm_rbf_pro.support_vectors_), \n",
        "      svm_rbf_pro.support_vectors_)"
      ],
      "execution_count": 11,
      "outputs": [
        {
          "output_type": "stream",
          "text": [
            "c=100 时线性核 SVM 的支持向量：7 个\n",
            " [[0.343 0.099]\n",
            " [0.657 0.198]\n",
            " [0.36  0.37 ]\n",
            " [0.774 0.376]\n",
            " [0.634 0.264]\n",
            " [0.403 0.237]\n",
            " [0.481 0.149]]\n"
          ],
          "name": "stdout"
        }
      ]
    },
    {
      "cell_type": "code",
      "metadata": {
        "colab": {
          "base_uri": "https://localhost:8080/",
          "height": 352
        },
        "id": "Ak9lygwfHOYg",
        "outputId": "9c8b99df-8602-4414-bfb9-be8cee0e6d05"
      },
      "source": [
        "plt_svm(svm_rbf_pro, 'c=100 rbf svm')"
      ],
      "execution_count": 12,
      "outputs": [
        {
          "output_type": "stream",
          "text": [
            "/usr/local/lib/python3.7/dist-packages/ipykernel_launcher.py:13: MatplotlibDeprecationWarning: Adding an axes using the same arguments as a previous axes currently reuses the earlier instance.  In a future version, a new instance will always be created and returned.  Meanwhile, this warning can be suppressed, and the future behavior ensured, by passing a unique label to each axes instance.\n",
            "  del sys.path[0]\n",
            "/usr/local/lib/python3.7/dist-packages/ipykernel_launcher.py:19: UserWarning: No contour levels were found within the data range.\n"
          ],
          "name": "stderr"
        },
        {
          "output_type": "display_data",
          "data": {
            "image/png": "[encoded data removed]",
            "text/plain": [
              "<Figure size 432x288 with 1 Axes>"
            ]
          },
          "metadata": {
            "tags": [],
            "needs_background": "light"
          }
        }
      ]
    }
  ]
}