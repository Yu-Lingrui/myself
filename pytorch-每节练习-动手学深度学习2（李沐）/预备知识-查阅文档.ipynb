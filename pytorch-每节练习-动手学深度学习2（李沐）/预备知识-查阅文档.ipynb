{
 "cells": [
  {
   "cell_type": "markdown",
   "id": "b03aa64a",
   "metadata": {},
   "source": [
    "# 查找模块中的所有函数和类"
   ]
  },
  {
   "cell_type": "markdown",
   "id": "e1fd5580",
   "metadata": {},
   "source": [
    "为了知道模块中可以调⽤哪些函数和类，我们调⽤dir函数。例如，我们可以查询随机数⽣成模块中的所有\n",
    "属性："
   ]
  },
  {
   "cell_type": "code",
   "execution_count": 1,
   "id": "7fbc5061",
   "metadata": {},
   "outputs": [
    {
     "name": "stdout",
     "output_type": "stream",
     "text": [
      "['AbsTransform', 'AffineTransform', 'Bernoulli', 'Beta', 'Binomial', 'CatTransform', 'Categorical', 'Cauchy', 'Chi2', 'ComposeTransform', 'ContinuousBernoulli', 'CorrCholeskyTransform', 'Dirichlet', 'Distribution', 'ExpTransform', 'Exponential', 'ExponentialFamily', 'FisherSnedecor', 'Gamma', 'Geometric', 'Gumbel', 'HalfCauchy', 'HalfNormal', 'Independent', 'IndependentTransform', 'Kumaraswamy', 'LKJCholesky', 'Laplace', 'LogNormal', 'LogisticNormal', 'LowRankMultivariateNormal', 'LowerCholeskyTransform', 'MixtureSameFamily', 'Multinomial', 'MultivariateNormal', 'NegativeBinomial', 'Normal', 'OneHotCategorical', 'OneHotCategoricalStraightThrough', 'Pareto', 'Poisson', 'PowerTransform', 'RelaxedBernoulli', 'RelaxedOneHotCategorical', 'ReshapeTransform', 'SigmoidTransform', 'SoftmaxTransform', 'StackTransform', 'StickBreakingTransform', 'StudentT', 'TanhTransform', 'Transform', 'TransformedDistribution', 'Uniform', 'VonMises', 'Weibull', '__all__', '__builtins__', '__cached__', '__doc__', '__file__', '__loader__', '__name__', '__package__', '__path__', '__spec__', 'bernoulli', 'beta', 'biject_to', 'binomial', 'categorical', 'cauchy', 'chi2', 'constraint_registry', 'constraints', 'continuous_bernoulli', 'dirichlet', 'distribution', 'exp_family', 'exponential', 'fishersnedecor', 'gamma', 'geometric', 'gumbel', 'half_cauchy', 'half_normal', 'identity_transform', 'independent', 'kl', 'kl_divergence', 'kumaraswamy', 'laplace', 'lkj_cholesky', 'log_normal', 'logistic_normal', 'lowrank_multivariate_normal', 'mixture_same_family', 'multinomial', 'multivariate_normal', 'negative_binomial', 'normal', 'one_hot_categorical', 'pareto', 'poisson', 'register_kl', 'relaxed_bernoulli', 'relaxed_categorical', 'studentT', 'transform_to', 'transformed_distribution', 'transforms', 'uniform', 'utils', 'von_mises', 'weibull']\n"
     ]
    }
   ],
   "source": [
    "import torch\n",
    "print(dir(torch.distributions))"
   ]
  },
  {
   "cell_type": "markdown",
   "id": "097428df",
   "metadata": {},
   "source": [
    "通常，我们可以忽略以“__”（双下划线）开始和结束的函数（它们是Python中的特殊对象），或以单个“_”（单下划线）开始的函数（它们通常是内部函数）。根据剩余的函数名或属性名，我们可能会猜测这个模块提供了各种⽣成随机数的⽅法，包括从均匀分布（uniform）、正态分布（normal）和多项分布（multinomial）中采样。"
   ]
  },
  {
   "cell_type": "markdown",
   "id": "0e600e61",
   "metadata": {},
   "source": [
    "# 查找特定函数和类的⽤法"
   ]
  },
  {
   "cell_type": "markdown",
   "id": "000bff26",
   "metadata": {},
   "source": [
    "有关如何使⽤给定函数或类的更具体说明，我们可以调⽤help函数。例如，我们来查看张量ones函数的⽤法。"
   ]
  },
  {
   "cell_type": "code",
   "execution_count": 2,
   "id": "7f462b50",
   "metadata": {},
   "outputs": [
    {
     "name": "stdout",
     "output_type": "stream",
     "text": [
      "Help on built-in function ones:\n",
      "\n",
      "ones(...)\n",
      "    ones(*size, *, out=None, dtype=None, layout=torch.strided, device=None, requires_grad=False) -> Tensor\n",
      "    \n",
      "    Returns a tensor filled with the scalar value `1`, with the shape defined\n",
      "    by the variable argument :attr:`size`.\n",
      "    \n",
      "    Args:\n",
      "        size (int...): a sequence of integers defining the shape of the output tensor.\n",
      "            Can be a variable number of arguments or a collection like a list or tuple.\n",
      "    \n",
      "    Keyword arguments:\n",
      "        out (Tensor, optional): the output tensor.\n",
      "        dtype (:class:`torch.dtype`, optional): the desired data type of returned tensor.\n",
      "            Default: if ``None``, uses a global default (see :func:`torch.set_default_tensor_type`).\n",
      "        layout (:class:`torch.layout`, optional): the desired layout of returned Tensor.\n",
      "            Default: ``torch.strided``.\n",
      "        device (:class:`torch.device`, optional): the desired device of returned tensor.\n",
      "            Default: if ``None``, uses the current device for the default tensor type\n",
      "            (see :func:`torch.set_default_tensor_type`). :attr:`device` will be the CPU\n",
      "            for CPU tensor types and the current CUDA device for CUDA tensor types.\n",
      "        requires_grad (bool, optional): If autograd should record operations on the\n",
      "            returned tensor. Default: ``False``.\n",
      "    \n",
      "    Example::\n",
      "    \n",
      "        >>> torch.ones(2, 3)\n",
      "        tensor([[ 1.,  1.,  1.],\n",
      "                [ 1.,  1.,  1.]])\n",
      "    \n",
      "        >>> torch.ones(5)\n",
      "        tensor([ 1.,  1.,  1.,  1.,  1.])\n",
      "\n"
     ]
    }
   ],
   "source": [
    "help(torch.ones)"
   ]
  },
  {
   "cell_type": "raw",
   "id": "5b25183e",
   "metadata": {},
   "source": [
    "在Jupyter记事本中，我们可以使⽤?指令在另⼀个浏览器窗口中显⽰⽂档。例如，list?指令将创建与help(list)指令⼏乎相同的内容，并在新的浏览器窗口中显⽰它。此外，如果我们使⽤两个问号，如list??，将显⽰实现该函数的Python代码。\n",
    "\n",
    "那当想知道一些函数的源代码写了什么方法，想知道源代码放在哪个路径中，或者想将源代码进行字符操作。该咋做呢？\n",
    "\n",
    "这时候，我们可以用很简单的方法来做Python函数源代码的查看，Python中有两个Libraries能够使用：inspect一个Python内置的标准库,drill是一个第三方库\n",
    "\n",
    "inspectinspect模块用于收集python对象的信息，可以获取类或函数的参数的信息，源码，解析堆栈，对对象进行类型检查等等\n",
    "\n",
    "举个栗子，用BeautifulSoup做分析，现在我们导入了两个库\n",
    "\n",
    "import inspect\n",
    "\n",
    "from bs4 import torch\n",
    "\n",
    "先看看torch的文档定义\n",
    "\n",
    "inspect.getdoc(torch)\n",
    "\n",
    "再来看看torch存放的路径\n",
    "\n",
    "inspect.getsourcefile(torch) & torch.__file__\n",
    "\n",
    "重点来了，当想看源代码的时候，可以用\n",
    "\n",
    "inspect.getsourcelines(BeautifulSoup)"
   ]
  },
  {
   "cell_type": "markdown",
   "id": "166cf393",
   "metadata": {},
   "source": [
    "# 通过百度CSDN&官方在线离线文档&官方github查阅"
   ]
  },
  {
   "cell_type": "markdown",
   "id": "a61d36e0",
   "metadata": {},
   "source": [
    "⼩结   \n",
    "• 官⽅⽂档提供了本书之外的⼤量描述和⽰例。   \n",
    "• 我们可以通过调⽤dir和help函数或在Jupyter记事本中使⽤?和??查看API的⽤法⽂"
   ]
  }
 ],
 "metadata": {
  "kernelspec": {
   "display_name": "Python 3 (ipykernel)",
   "language": "python",
   "name": "python3"
  },
  "language_info": {
   "codemirror_mode": {
    "name": "ipython",
    "version": 3
   },
   "file_extension": ".py",
   "mimetype": "text/x-python",
   "name": "python",
   "nbconvert_exporter": "python",
   "pygments_lexer": "ipython3",
   "version": "3.8.12"
  },
  "toc": {
   "base_numbering": 1,
   "nav_menu": {},
   "number_sections": true,
   "sideBar": true,
   "skip_h1_title": false,
   "title_cell": "Table of Contents",
   "title_sidebar": "Contents",
   "toc_cell": false,
   "toc_position": {},
   "toc_section_display": true,
   "toc_window_display": false
  }
 },
 "nbformat": 4,
 "nbformat_minor": 5
}
