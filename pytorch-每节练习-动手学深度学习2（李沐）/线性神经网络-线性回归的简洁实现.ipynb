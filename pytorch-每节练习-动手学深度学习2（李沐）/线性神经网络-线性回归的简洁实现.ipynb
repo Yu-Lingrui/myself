{
 "cells": [
  {
   "cell_type": "code",
   "execution_count": 23,
   "id": "00c9d1b6",
   "metadata": {},
   "outputs": [],
   "source": [
    "import numpy as np\n",
    "import torch\n",
    "from torch.utils import data\n",
    "from d2l import torch as d2l\n",
    "true_w = torch.tensor([2, -3.4])\n",
    "true_b = 4.2\n",
    "features, labels = d2l.synthetic_data(true_w, true_b, 1000)"
   ]
  },
  {
   "cell_type": "code",
   "execution_count": 24,
   "id": "34b47a5c",
   "metadata": {},
   "outputs": [],
   "source": [
    "def load_array(data_arrays, batch_size, is_train=True): #@save\n",
    "    \"\"\"构造⼀个PyTorch数据迭代器\"\"\"\n",
    "    dataset = data.TensorDataset(*data_arrays) #列表入参，输入两个数据一一对应\n",
    "    return data.DataLoader(dataset, batch_size,shuffle=is_train)#重新排序"
   ]
  },
  {
   "cell_type": "code",
   "execution_count": 25,
   "id": "65cd8f83",
   "metadata": {},
   "outputs": [],
   "source": [
    "batch_size = 10\n",
    "data_iter = load_array((features, labels), batch_size)"
   ]
  },
  {
   "cell_type": "code",
   "execution_count": 26,
   "id": "5f064d75",
   "metadata": {},
   "outputs": [
    {
     "data": {
      "text/plain": [
       "tensor([0.])"
      ]
     },
     "execution_count": 26,
     "metadata": {},
     "output_type": "execute_result"
    }
   ],
   "source": [
    "# nn是神经⽹络的缩写\n",
    "from torch import nn\n",
    "net = nn.Sequential(nn.Linear(2, 1))\n",
    "net[0].weight.data.normal_(0, 0.01)\n",
    "net[0].bias.data.fill_(0)"
   ]
  },
  {
   "cell_type": "code",
   "execution_count": 27,
   "id": "e41b6acf",
   "metadata": {},
   "outputs": [],
   "source": [
    "# 定义损失函数\n",
    "loss = nn.MSELoss()\n",
    "# 定义优化算法\n",
    "trainer = torch.optim.SGD(net.parameters(), lr=0.03)"
   ]
  },
  {
   "cell_type": "code",
   "execution_count": 28,
   "id": "9d416a14",
   "metadata": {},
   "outputs": [
    {
     "name": "stdout",
     "output_type": "stream",
     "text": [
      "epoch 1, loss 0.000204\n",
      "epoch 2, loss 0.000097\n",
      "epoch 3, loss 0.000097\n"
     ]
    }
   ],
   "source": [
    "# 训练\n",
    "'''\n",
    "• 通过调⽤net(X)⽣成预测并计算损失l（前向传播）。\n",
    "• 通过进⾏反向传播来计算梯度。\n",
    "• 通过调⽤优化器来更新模型参数。\n",
    "'''\n",
    "num_epochs = 3\n",
    "for epoch in range(num_epochs):\n",
    "    for X, y in data_iter:\n",
    "        l = loss(net(X) ,y)\n",
    "        trainer.zero_grad()\n",
    "        l.backward()\n",
    "        trainer.step() #更新权重和偏差\n",
    "    l = loss(net(features), labels)\n",
    "    print(f'epoch {epoch + 1}, loss {l:f}')"
   ]
  },
  {
   "cell_type": "code",
   "execution_count": 29,
   "id": "e2f0e52b",
   "metadata": {},
   "outputs": [
    {
     "name": "stdout",
     "output_type": "stream",
     "text": [
      "w的估计误差： tensor([0.0003, 0.0011])\n",
      "b的估计误差： tensor([-0.0001])\n"
     ]
    }
   ],
   "source": [
    "w = net[0].weight.data\n",
    "print('w的估计误差：', true_w - w.reshape(true_w.shape))\n",
    "b = net[0].bias.data\n",
    "print('b的估计误差：', true_b - b)"
   ]
  },
  {
   "cell_type": "markdown",
   "id": "fc0eec65",
   "metadata": {},
   "source": [
    "⼩结    \n",
    "• 我们可以使⽤PyTorch的⾼级API更简洁地实现模型。   \n",
    "• 在PyTorch中，data模块提供了数据处理⼯具，nn模块定义了⼤量的神经⽹络层和常⻅损失函数。   \n",
    "• 我们可以通过_结尾的⽅法将参数替换，从而初始化参数。"
   ]
  },
  {
   "cell_type": "markdown",
   "id": "c798a5ea",
   "metadata": {},
   "source": [
    "练习\n",
    "1. 如果将小批量的总损失替换为小批量损失的平均值，你需要如何更改学习率？\n",
    "2. 查看深度学习框架⽂档，它们提供了哪些损失函数和初始化⽅法？⽤Huber损失代替原损失，即\n",
    "$$\n",
    "l\\left(y, y^{\\prime}\\right)= \\begin{cases}\\left|y-y^{\\prime}\\right|-\\frac{\\sigma}{2} & \\text { if }\\left|y-y^{\\prime}\\right|>\\sigma \\\\ \\frac{1}{2 \\sigma}\\left(y-y^{\\prime}\\right)^{2} & \\text { 其它情况 }\\end{cases}\n",
    "$$\n",
    "3. 你如何访问线性回归的梯度？"
   ]
  },
  {
   "cell_type": "markdown",
   "id": "3aec850f",
   "metadata": {},
   "source": [
    "1. 将学习率除以batchsize"
   ]
  },
  {
   "cell_type": "code",
   "execution_count": null,
   "id": "7b81ffd8",
   "metadata": {},
   "outputs": [],
   "source": [
    "#2. 其实Huber损失可以用torch自带的函数解决：\n",
    "# torch.nn.SmoothL1Loss()\n",
    "import torch.nn as nn\n",
    "import torch.nn.functional as F\n",
    "class HuberLoss(nn.Module):\n",
    "    def __init__(self, sigma):\n",
    "        super(HuberLoss, self).__init__()\n",
    "        self.sigma = sigma\n",
    "    def forward(self, y, y_hat):\n",
    "        if F.l1_loss(y, y_hat) > self.sigma:\n",
    "            loss = F.l1_loss(y, y_hat) - self.sigma/2\n",
    "        else:\n",
    "            loss = (1/(2*self.sigma))*F.mse_loss(y, y_hat)\n",
    "        return loss"
   ]
  },
  {
   "cell_type": "code",
   "execution_count": 30,
   "id": "6c8915a2",
   "metadata": {},
   "outputs": [
    {
     "data": {
      "text/plain": [
       "(tensor([[0.0008, 0.0096]]), tensor([-0.0103]))"
      ]
     },
     "execution_count": 30,
     "metadata": {},
     "output_type": "execute_result"
    }
   ],
   "source": [
    "a = net[0].weight.grad\n",
    "b = net[0].bias.grad\n",
    "a,b\n",
    "# 假如是多层网络，可以用一个self.xxx=某层，然后在外面通过net.xxx.weight.grad和net.xxx.bias.grad把梯度给拿出来。"
   ]
  }
 ],
 "metadata": {
  "kernelspec": {
   "display_name": "tensorflow",
   "language": "python",
   "name": "tensorflow"
  },
  "language_info": {
   "codemirror_mode": {
    "name": "ipython",
    "version": 3
   },
   "file_extension": ".py",
   "mimetype": "text/x-python",
   "name": "python",
   "nbconvert_exporter": "python",
   "pygments_lexer": "ipython3",
   "version": "3.8.11"
  },
  "toc": {
   "base_numbering": 1,
   "nav_menu": {},
   "number_sections": true,
   "sideBar": true,
   "skip_h1_title": false,
   "title_cell": "Table of Contents",
   "title_sidebar": "Contents",
   "toc_cell": false,
   "toc_position": {},
   "toc_section_display": true,
   "toc_window_display": false
  }
 },
 "nbformat": 4,
 "nbformat_minor": 5
}
