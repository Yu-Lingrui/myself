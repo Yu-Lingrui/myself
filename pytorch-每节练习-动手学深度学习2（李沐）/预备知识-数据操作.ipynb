{
 "cells": [
  {
   "cell_type": "markdown",
   "id": "7af62ffa",
   "metadata": {},
   "source": [
    "# 小结"
   ]
  },
  {
   "cell_type": "markdown",
   "id": "2cda899f",
   "metadata": {},
   "source": [
    "深度学习存储和操作数据的主要接口是张量（n n维数组）。它提供了各种功能，包括基本数学运算、⼴     \n",
    "播、索引、切⽚、内存节省和转换其他Python对象。"
   ]
  },
  {
   "cell_type": "markdown",
   "id": "e21ba367",
   "metadata": {},
   "source": [
    "# 练习"
   ]
  },
  {
   "cell_type": "markdown",
   "id": "ee00365d",
   "metadata": {},
   "source": [
    "1. 运⾏本节中的代码。将本节中的条件语句X == Y更改为X < Y或X > Y，然后看看你可以得到什么样的张量。\n",
    "2. ⽤其他形状（例如三维张量）替换⼴播机制中按元素操作的两个张量。结果是否与预期相同？"
   ]
  },
  {
   "cell_type": "code",
   "execution_count": 4,
   "id": "350843d5",
   "metadata": {},
   "outputs": [
    {
     "data": {
      "text/plain": [
       "(tensor([[ 0.,  1.,  2.,  3.],\n",
       "         [ 4.,  5.,  6.,  7.],\n",
       "         [ 8.,  9., 10., 11.],\n",
       "         [ 2.,  1.,  4.,  3.],\n",
       "         [ 1.,  2.,  3.,  4.],\n",
       "         [ 4.,  3.,  2.,  1.]]),\n",
       " tensor([[ 0.,  1.,  2.,  3.,  2.,  1.,  4.,  3.],\n",
       "         [ 4.,  5.,  6.,  7.,  1.,  2.,  3.,  4.],\n",
       "         [ 8.,  9., 10., 11.,  4.,  3.,  2.,  1.]]),\n",
       " tensor([[False,  True, False,  True],\n",
       "         [False, False, False, False],\n",
       "         [False, False, False, False]]),\n",
       " tensor([[ True, False,  True, False],\n",
       "         [False, False, False, False],\n",
       "         [False, False, False, False]]))"
      ]
     },
     "execution_count": 4,
     "metadata": {},
     "output_type": "execute_result"
    }
   ],
   "source": [
    "#1二维连结\n",
    "import torch\n",
    "X = torch.arange(12, dtype=torch.float32).reshape((3,4))#注意向量形式默认为列向量\n",
    "Y = torch.tensor([[2.0, 1, 4, 3], [1, 2, 3, 4], [4, 3, 2, 1]])\n",
    "torch.cat((X, Y), dim=0), torch.cat((X, Y), dim=1),X == Y,X < Y\n",
    "#二维：行0，列1;三维：行0，行1，列2;由里到外(size要保证拓展后为完整矩阵！)"
   ]
  },
  {
   "cell_type": "code",
   "execution_count": 5,
   "id": "e93b416b",
   "metadata": {},
   "outputs": [
    {
     "data": {
      "text/plain": [
       "(tensor([[[ 0.,  1.],\n",
       "          [ 2.,  3.]],\n",
       " \n",
       "         [[ 4.,  5.],\n",
       "          [ 6.,  7.]],\n",
       " \n",
       "         [[ 8.,  9.],\n",
       "          [10., 11.]],\n",
       " \n",
       "         [[ 2.,  1.],\n",
       "          [ 1.,  2.]],\n",
       " \n",
       "         [[ 4.,  3.],\n",
       "          [ 1.,  0.]],\n",
       " \n",
       "         [[ 1.,  3.],\n",
       "          [ 2.,  0.]]]),\n",
       " tensor([[[ 0.,  1.],\n",
       "          [ 2.,  3.],\n",
       "          [ 2.,  1.],\n",
       "          [ 1.,  2.]],\n",
       " \n",
       "         [[ 4.,  5.],\n",
       "          [ 6.,  7.],\n",
       "          [ 4.,  3.],\n",
       "          [ 1.,  0.]],\n",
       " \n",
       "         [[ 8.,  9.],\n",
       "          [10., 11.],\n",
       "          [ 1.,  3.],\n",
       "          [ 2.,  0.]]]),\n",
       " tensor([[[ 0.,  1.,  2.,  1.],\n",
       "          [ 2.,  3.,  1.,  2.]],\n",
       " \n",
       "         [[ 4.,  5.,  4.,  3.],\n",
       "          [ 6.,  7.,  1.,  0.]],\n",
       " \n",
       "         [[ 8.,  9.,  1.,  3.],\n",
       "          [10., 11.,  2.,  0.]]]))"
      ]
     },
     "execution_count": 5,
     "metadata": {},
     "output_type": "execute_result"
    }
   ],
   "source": [
    "#1三维连结\n",
    "X = torch.arange(12, dtype=torch.float32).reshape((3,2,2))\n",
    "Y = torch.tensor([[[2,1], [1,2]], [[4,3],[1,0]],[[1,3],[2,0]]])\n",
    "torch.cat((X, Y), dim=0), torch.cat((X, Y), dim=1),torch.cat((X, Y), dim=2)"
   ]
  },
  {
   "cell_type": "code",
   "execution_count": 7,
   "id": "c462abb3",
   "metadata": {},
   "outputs": [
    {
     "data": {
      "text/plain": [
       "(tensor([[0],\n",
       "         [1],\n",
       "         [2]]),\n",
       " tensor([[0, 1]]),\n",
       " tensor([[0, 1],\n",
       "         [1, 2],\n",
       "         [2, 3]]))"
      ]
     },
     "execution_count": 7,
     "metadata": {},
     "output_type": "execute_result"
    }
   ],
   "source": [
    "#2二维广播\n",
    "a = torch.arange(3).reshape((3, 1))\n",
    "b = torch.arange(2).reshape((1, 2))\n",
    "a, b, a+b\n",
    "#由于a和b分别是3 × 1和1 × 2矩阵，如果让它们相加，它们的形状不匹配。\n",
    "#我们将两个矩阵⼴播为⼀个更⼤的3 × 2矩阵，如下所⽰：矩阵a将复制列，矩阵b将复制⾏，然后再按元素相加"
   ]
  },
  {
   "cell_type": "code",
   "execution_count": 8,
   "id": "38513bb5",
   "metadata": {},
   "outputs": [
    {
     "data": {
      "text/plain": [
       "(tensor([[[0]],\n",
       " \n",
       "         [[1]],\n",
       " \n",
       "         [[2]]]),\n",
       " tensor([[[0],\n",
       "          [1]]]),\n",
       " tensor([[[0],\n",
       "          [1]],\n",
       " \n",
       "         [[1],\n",
       "          [2]],\n",
       " \n",
       "         [[2],\n",
       "          [3]]]))"
      ]
     },
     "execution_count": 8,
     "metadata": {},
     "output_type": "execute_result"
    }
   ],
   "source": [
    "#2三维广播\n",
    "a = torch.arange(3).reshape(3, 1, 1)\n",
    "b = torch.arange(2).reshape(1, 2, 1)\n",
    "a, b, a+b"
   ]
  }
 ],
 "metadata": {
  "kernelspec": {
   "display_name": "tensorflow",
   "language": "python",
   "name": "tensorflow"
  },
  "language_info": {
   "codemirror_mode": {
    "name": "ipython",
    "version": 3
   },
   "file_extension": ".py",
   "mimetype": "text/x-python",
   "name": "python",
   "nbconvert_exporter": "python",
   "pygments_lexer": "ipython3",
   "version": "3.8.11"
  },
  "toc": {
   "base_numbering": 1,
   "nav_menu": {},
   "number_sections": true,
   "sideBar": true,
   "skip_h1_title": false,
   "title_cell": "Table of Contents",
   "title_sidebar": "Contents",
   "toc_cell": false,
   "toc_position": {},
   "toc_section_display": true,
   "toc_window_display": false
  }
 },
 "nbformat": 4,
 "nbformat_minor": 5
}
